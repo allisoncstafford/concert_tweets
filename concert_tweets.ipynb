{
 "cells": [
  {
   "cell_type": "markdown",
   "metadata": {},
   "source": [
    "# Concert Tweet Classifier"
   ]
  },
  {
   "cell_type": "markdown",
   "metadata": {},
   "source": [
    "## Import Necesary Packages"
   ]
  },
  {
   "cell_type": "code",
   "execution_count": 1,
   "metadata": {},
   "outputs": [],
   "source": [
    "import sparknlp\n",
    "from pyspark.sql.types import *\n",
    "from pyspark.sql.functions import count, when, col\n",
    "from sparknlp.base import Finisher, DocumentAssembler\n",
    "from sparknlp.annotator import (Tokenizer, Normalizer,\n",
    "                                LemmatizerModel, StopWordsCleaner, PerceptronApproach)\n",
    "from pyspark.ml import Pipeline\n",
    "from nltk.corpus import stopwords\n",
    "import pyspark.sql.functions as F\n",
    "import pandas as pd\n",
    "from sparknlp.pretrained import PretrainedPipeline"
   ]
  },
  {
   "cell_type": "markdown",
   "metadata": {},
   "source": [
    "## Start the spark-NLP session"
   ]
  },
  {
   "cell_type": "code",
   "execution_count": 2,
   "metadata": {},
   "outputs": [],
   "source": [
    "spark = sparknlp.start()"
   ]
  },
  {
   "cell_type": "code",
   "execution_count": 3,
   "metadata": {},
   "outputs": [
    {
     "data": {
      "text/plain": [
       "4"
      ]
     },
     "execution_count": 3,
     "metadata": {},
     "output_type": "execute_result"
    }
   ],
   "source": [
    "spark.sparkContext.defaultParallelism"
   ]
  },
  {
   "cell_type": "code",
   "execution_count": 4,
   "metadata": {},
   "outputs": [],
   "source": [
    "# adjust show output format to pandas-like\n",
    "spark.conf.set('spark.sql.repl.eagerEval.enabled', True)\n",
    "\n",
    "# enable pyarrow for toPandas\n",
    "spark.conf.set(\"spark.sql.execution.arrow.enabled\", True)"
   ]
  },
  {
   "cell_type": "markdown",
   "metadata": {},
   "source": [
    "## Read the data"
   ]
  },
  {
   "cell_type": "markdown",
   "metadata": {},
   "source": [
    "Note, I have saved the clean data to parquet and commented out the preprocessing/data cleaning steps to save time when re-running the notebook.\n",
    "\n",
    "In the first go, there were 25k rows of null - where the schema did not match the data. I decided to do some quick cleaning."
   ]
  },
  {
   "cell_type": "code",
   "execution_count": 5,
   "metadata": {},
   "outputs": [],
   "source": [
    "def remove_extra_seps(in_file, out_file, sep):\n",
    "    \"\"\"removes newline characters that come before the line reaches four segments(3 separators)\n",
    "    and combines \"middle sections\" with extra separators into a single segment by removing the separators.\n",
    "    \n",
    "    Args:\n",
    "        in_file: path to read file\n",
    "        out_file: path to write file\n",
    "        sep: separator/delimitor\n",
    "    \"\"\"\n",
    "    n_chunks = 4\n",
    "    \n",
    "    with open(in_file, 'r') as rf:\n",
    "        with open(out_file, 'w') as wf:\n",
    "            while True:\n",
    "                line = rf.readline()\n",
    "                \n",
    "                # if end of file\n",
    "                if line == '':\n",
    "                    break\n",
    "                    \n",
    "                # if line has less than n_sep, strip the newline and add the next line\n",
    "                if len(line.split(sep)) < n_chunks:\n",
    "                    line = line.strip('\\n')\n",
    "                    line += rf.readline()\n",
    "                \n",
    "                wf.write(line)"
   ]
  },
  {
   "cell_type": "code",
   "execution_count": 6,
   "metadata": {},
   "outputs": [],
   "source": [
    "# remove_extra_seps('../data/test_set_tweets.txt',\n",
    "#                       '../data/test_set_tweets_clean.txt',\n",
    "#                      '\\t')\n",
    "# remove_extra_seps('../data/training_set_tweets.txt',\n",
    "#                       '../data/training_set_tweets_clean.txt',\n",
    "#                      '\\t')"
   ]
  },
  {
   "cell_type": "code",
   "execution_count": 7,
   "metadata": {},
   "outputs": [],
   "source": [
    "# set the schema\n",
    "tweet_schema = StructType([\n",
    "    StructField(\"user_id\", IntegerType(), True),\n",
    "    StructField(\"t_id\", StringType(), True),\n",
    "    StructField(\"t_text\", StringType(), True),\n",
    "    StructField(\"t_dt\", TimestampType(), True)\n",
    "    ])"
   ]
  },
  {
   "cell_type": "code",
   "execution_count": 8,
   "metadata": {},
   "outputs": [],
   "source": [
    "# tweets_test = spark.read.csv('../data/test_set_tweets_clean.txt', \n",
    "#                               sep='\\t',\n",
    "#                               schema=tweet_schema,\n",
    "#                               header=\"false\")"
   ]
  },
  {
   "cell_type": "code",
   "execution_count": 9,
   "metadata": {},
   "outputs": [],
   "source": [
    "# tweets_training = spark.read.csv('../data/training_set_tweets_clean.txt', \n",
    "#                                  sep=\"\\t\", \n",
    "#                                  schema=tweet_schema,\n",
    "#                                  header='false')"
   ]
  },
  {
   "cell_type": "markdown",
   "metadata": {},
   "source": [
    "Since our data is unlabeled for our task, these test/train splits are not particularly useful, but a vestige of the original data set and purpose. We'll combine them."
   ]
  },
  {
   "cell_type": "code",
   "execution_count": 10,
   "metadata": {},
   "outputs": [],
   "source": [
    "# tweets = tweets_test.union(tweets_training)"
   ]
  },
  {
   "cell_type": "markdown",
   "metadata": {},
   "source": [
    "#### Future: Consider reading the data as a single column and then parsing. Compare outcome / number of tweets retrieved to that with the csv reading"
   ]
  },
  {
   "cell_type": "markdown",
   "metadata": {},
   "source": [
    "## Data Set"
   ]
  },
  {
   "cell_type": "markdown",
   "metadata": {},
   "source": [
    "### Tweets"
   ]
  },
  {
   "cell_type": "code",
   "execution_count": 11,
   "metadata": {},
   "outputs": [],
   "source": [
    "# tweets.select('*').show(5)"
   ]
  },
  {
   "cell_type": "code",
   "execution_count": 12,
   "metadata": {},
   "outputs": [
    {
     "name": "stdout",
     "output_type": "stream",
     "text": [
      "+-------+-----+------+-----+\n",
      "|user_id| t_id|t_text| t_dt|\n",
      "+-------+-----+------+-----+\n",
      "|  33289|33179| 32631|53805|\n",
      "+-------+-----+------+-----+\n"
     ]
    }
   ],
   "source": [
    "# tweets.select([count(when(col(c).isNull(), c)).alias(c) for c in \n",
    "#         tweets.columns]).show()\n",
    "\n",
    "print(\"\"\"+-------+-----+------+-----+\n",
    "|user_id| t_id|t_text| t_dt|\n",
    "+-------+-----+------+-----+\n",
    "|  33289|33179| 32631|53805|\n",
    "+-------+-----+------+-----+\"\"\")"
   ]
  },
  {
   "cell_type": "code",
   "execution_count": 13,
   "metadata": {},
   "outputs": [
    {
     "name": "stdout",
     "output_type": "stream",
     "text": [
      "8884863\n"
     ]
    }
   ],
   "source": [
    "# tweets.count()\n",
    "\n",
    "print(8884863)"
   ]
  },
  {
   "cell_type": "code",
   "execution_count": 14,
   "metadata": {},
   "outputs": [
    {
     "name": "stdout",
     "output_type": "stream",
     "text": [
      "8850656\n"
     ]
    }
   ],
   "source": [
    "# tweets.distinct().count()\n",
    "print(8850656)"
   ]
  },
  {
   "cell_type": "markdown",
   "metadata": {},
   "source": [
    "It looks like the time stamp can be parsed from the end of the tweet text for many of these \"null\" datetimes."
   ]
  },
  {
   "cell_type": "code",
   "execution_count": 15,
   "metadata": {
    "scrolled": false
   },
   "outputs": [],
   "source": [
    "# tweets.filter(col('t_dt').isNull()).take(5)"
   ]
  },
  {
   "cell_type": "code",
   "execution_count": 16,
   "metadata": {},
   "outputs": [],
   "source": [
    "# when the datetime is null, take the last 19 characters of the tweet text as the datetime\n",
    "\n",
    "# tweets = tweets.withColumn('datetime', \n",
    "#                            F.when(F.col('t_dt').isNull(), \n",
    "#                                   F.to_date(F.substring('t_text', -19, 19)))\n",
    "#                            .otherwise(F.col('t_dt'))\n",
    "#                           )"
   ]
  },
  {
   "cell_type": "code",
   "execution_count": 17,
   "metadata": {},
   "outputs": [],
   "source": [
    "# when the datetime is null, remove the last characters (the tab and datetime) from the tweet text \n",
    "\n",
    "# tweets = tweets.withColumn('t_text', \n",
    "#                            F.when(F.col('t_dt').isNull(), \n",
    "#                                   F.expr('substring(t_text, 1, length(t_text)-20)'))\n",
    "#                            .otherwise(F.col('t_text'))\n",
    "#                            )"
   ]
  },
  {
   "cell_type": "code",
   "execution_count": 18,
   "metadata": {},
   "outputs": [],
   "source": [
    "# tweets = tweets.withColumn('t_dt', F.col('datetime')).drop('datetime')"
   ]
  },
  {
   "cell_type": "code",
   "execution_count": 20,
   "metadata": {},
   "outputs": [],
   "source": [
    "# save as parquet and reload\n",
    "\n",
    "# tweets.write.parquet('../data/tweets.parquet')\n",
    "tweets = spark.read.parquet('../data/tweets.parquet')"
   ]
  },
  {
   "cell_type": "code",
   "execution_count": 21,
   "metadata": {},
   "outputs": [
    {
     "name": "stdout",
     "output_type": "stream",
     "text": [
      "+-------+-----+------+-----+\n",
      "        |user_id| t_id|t_text| t_dt|\n",
      "        +-------+-----+------+-----+\n",
      "        |  34555|34490| 34232|54671|\n",
      "        +-------+-----+------+-----+\n",
      "        \n"
     ]
    }
   ],
   "source": [
    "# tweets.select([count(when(col(c).isNull(), c)).alias(c) for c in \n",
    "#         tweets.columns]).show()\n",
    "\n",
    "print(\"\"\"+-------+-----+------+-----+\n",
    "        |user_id| t_id|t_text| t_dt|\n",
    "        +-------+-----+------+-----+\n",
    "        |  34555|34490| 34232|54671|\n",
    "        +-------+-----+------+-----+\n",
    "        \"\"\")"
   ]
  },
  {
   "cell_type": "code",
   "execution_count": 22,
   "metadata": {
    "scrolled": true
   },
   "outputs": [
    {
     "name": "stdout",
     "output_type": "stream",
     "text": [
      "8884863\n"
     ]
    }
   ],
   "source": [
    "# tweets.count()\n",
    "\n",
    "print(8884863)"
   ]
  },
  {
   "cell_type": "code",
   "execution_count": 23,
   "metadata": {},
   "outputs": [],
   "source": [
    "# drop remaining rows with null values in the text column\n",
    "tweets = tweets.dropna(how='any', subset=['t_text'])"
   ]
  },
  {
   "cell_type": "code",
   "execution_count": 24,
   "metadata": {
    "scrolled": true
   },
   "outputs": [
    {
     "data": {
      "text/plain": [
       "[Row(user_id=25513575, t_id='10334442280', t_text='', t_dt=None),\n",
       " Row(user_id=25513575, t_id='10333612651', t_text='', t_dt=None),\n",
       " Row(user_id=16198727, t_id='6899029209', t_text='This vid cracked me up! haha I w', t_dt=None),\n",
       " Row(user_id=20106865, t_id='10362030419', t_text=\"Ladies and gentlemen... come and join me.  It'\", t_dt=None),\n",
       " Row(user_id=20106865, t_id='10005503765', t_text='I am talking #Survivor RIGHT NOW in stickam', t_dt=None)]"
      ]
     },
     "execution_count": 24,
     "metadata": {},
     "output_type": "execute_result"
    }
   ],
   "source": [
    "tweets.filter(col('t_dt').isNull()).take(5)"
   ]
  },
  {
   "cell_type": "markdown",
   "metadata": {},
   "source": [
    "Clearly I could do some more/better data engineering here, but for this exercise, I'm going to move on, dropping any records with null values or t_text with empty strings"
   ]
  },
  {
   "cell_type": "code",
   "execution_count": 25,
   "metadata": {},
   "outputs": [],
   "source": [
    "tweets = tweets.dropna(how='any')"
   ]
  },
  {
   "cell_type": "code",
   "execution_count": 26,
   "metadata": {},
   "outputs": [],
   "source": [
    "# remove empty string tweets from the data set\n",
    "tweets = tweets.filter(~(tweets.t_text == \"\"))"
   ]
  },
  {
   "cell_type": "code",
   "execution_count": 27,
   "metadata": {},
   "outputs": [
    {
     "name": "stdout",
     "output_type": "stream",
     "text": [
      "8829912\n"
     ]
    }
   ],
   "source": [
    "# tweets.count()\n",
    "\n",
    "print(8829912)"
   ]
  },
  {
   "cell_type": "markdown",
   "metadata": {},
   "source": [
    "We still have 8.83 million from the original 8.88 million. I'll take it for today's exercise. I'm pretty sure some more/better data engineering could extract more tweets from our text file, but that's a challenge for another day."
   ]
  },
  {
   "cell_type": "markdown",
   "metadata": {},
   "source": [
    "# Concert tweets - Classifier"
   ]
  },
  {
   "cell_type": "markdown",
   "metadata": {},
   "source": [
    "I am deciding to focus on english tweets for now. (may add spanish, others in the future based on presence in the data set)."
   ]
  },
  {
   "cell_type": "code",
   "execution_count": 28,
   "metadata": {},
   "outputs": [],
   "source": [
    "eng_stopwords = stopwords.words('english')"
   ]
  },
  {
   "cell_type": "markdown",
   "metadata": {},
   "source": [
    "setting up the pieces of my pipeline to extract text info from the tweets (we'll use a pretrained pipeline later)"
   ]
  },
  {
   "cell_type": "code",
   "execution_count": 29,
   "metadata": {},
   "outputs": [
    {
     "name": "stdout",
     "output_type": "stream",
     "text": [
      "lemma_antbnc download started this may take some time.\n",
      "Approximate size to download 907.6 KB\n",
      "[OK!]\n"
     ]
    }
   ],
   "source": [
    "documentAssembler = DocumentAssembler() \\\n",
    "     .setInputCol('t_text') \\\n",
    "     .setOutputCol('document')\n",
    "tokenizer = Tokenizer() \\\n",
    "     .setInputCols(['document']) \\\n",
    "     .setOutputCol('token')\n",
    "normalizer = Normalizer() \\\n",
    "     .setInputCols(['token']) \\\n",
    "     .setOutputCol('normalized') \\\n",
    "     .setLowercase(True)\n",
    "lemmatizer = LemmatizerModel.pretrained() \\\n",
    "     .setInputCols(['normalized']) \\\n",
    "     .setOutputCol('lemma')\n",
    "stopwords_cleaner = StopWordsCleaner() \\\n",
    "     .setInputCols(['lemma']) \\\n",
    "     .setOutputCol('clean_lemma') \\\n",
    "     .setCaseSensitive(False) \\\n",
    "     .setStopWords(eng_stopwords)\n",
    "finisher = Finisher() \\\n",
    "     .setInputCols(['clean_lemma']) \\\n",
    "     .setCleanAnnotations(False)"
   ]
  },
  {
   "cell_type": "code",
   "execution_count": 30,
   "metadata": {},
   "outputs": [],
   "source": [
    "pipeline = Pipeline() \\\n",
    "     .setStages([\n",
    "           documentAssembler,\n",
    "           tokenizer,\n",
    "           normalizer,\n",
    "           lemmatizer,\n",
    "           stopwords_cleaner,\n",
    "           finisher\n",
    "     ])"
   ]
  },
  {
   "cell_type": "code",
   "execution_count": 31,
   "metadata": {},
   "outputs": [],
   "source": [
    "tweets = pipeline.fit(tweets).transform(tweets)"
   ]
  },
  {
   "cell_type": "code",
   "execution_count": 32,
   "metadata": {},
   "outputs": [
    {
     "data": {
      "text/plain": [
       "['user_id',\n",
       " 't_id',\n",
       " 't_text',\n",
       " 't_dt',\n",
       " 'document',\n",
       " 'token',\n",
       " 'normalized',\n",
       " 'lemma',\n",
       " 'clean_lemma',\n",
       " 'finished_clean_lemma']"
      ]
     },
     "execution_count": 32,
     "metadata": {},
     "output_type": "execute_result"
    }
   ],
   "source": [
    "tweets.columns"
   ]
  },
  {
   "cell_type": "markdown",
   "metadata": {},
   "source": [
    "## Basic Classifier: contains the word concert"
   ]
  },
  {
   "cell_type": "code",
   "execution_count": 33,
   "metadata": {},
   "outputs": [],
   "source": [
    "concert_tweets = tweets.withColumn('concert', F.array_contains('finished_clean_lemma', 'concert'))\n",
    "concert_tweets = concert_tweets.filter(concert_tweets['concert'] == 'true')"
   ]
  },
  {
   "cell_type": "code",
   "execution_count": 34,
   "metadata": {},
   "outputs": [
    {
     "data": {
      "text/plain": [
       "[Row(t_text=\"@herRoyalStarnes I just thought of the history broke down bmw's on bdays free concert tickets in the nose bleeds p (cont) http://tl.gd/4pp7k\"),\n",
       " Row(t_text='Y is me @RandiICandy, @EpitomeOfADiva, and Leila Bunny n here singing Mary J like we Mary J. We in concert yall buy a ticket yall.'),\n",
       " Row(t_text=\"@beccalexis sup Bee? How'd the shoot go? Will you be at the concert tonight?\")]"
      ]
     },
     "execution_count": 34,
     "metadata": {},
     "output_type": "execute_result"
    }
   ],
   "source": [
    "concert_tweets.select('t_text').take(3)"
   ]
  },
  {
   "cell_type": "code",
   "execution_count": 35,
   "metadata": {},
   "outputs": [
    {
     "name": "stdout",
     "output_type": "stream",
     "text": [
      "12477\n"
     ]
    }
   ],
   "source": [
    "# concert_tweets.count()\n",
    "\n",
    "print(12477)"
   ]
  },
  {
   "cell_type": "code",
   "execution_count": 36,
   "metadata": {},
   "outputs": [
    {
     "name": "stdout",
     "output_type": "stream",
     "text": [
      "+--------------------------------------------------------------------------------------------------------------------------------------------+\n",
      "|t_text                                                                                                                                      |\n",
      "+--------------------------------------------------------------------------------------------------------------------------------------------+\n",
      "|@herRoyalStarnes I just thought of the history broke down bmw's on bdays free concert tickets in the nose bleeds p (cont) http://tl.gd/4pp7k|\n",
      "|Y is me @RandiICandy, @EpitomeOfADiva, and Leila Bunny n here singing Mary J like we Mary J. We in concert yall buy a ticket yall.          |\n",
      "|@beccalexis sup Bee? How'd the shoot go? Will you be at the concert tonight?                                                                |\n",
      "|RT @BoomKack: Janet was at Lady Gaga concert tonight she is everything!!!!!! Can't touch her!                                               |\n",
      "|Concert tonight at the bellyup! The grouch& mr fab                                                                                          |\n",
      "|They Played #FLEX @ The Jigga Concert... And #MrHitDatHoe                                                                                   |\n",
      "|My First Concert... Then I'm seeing one of the best to ever do it                                                                           |\n",
      "|In The Library With @NickAustinG... He Tryin To Get On His Jigga Shit... Oh We Goin To The Concert Tonite                                   |\n",
      "|@RockStarRenRen lol is we going to this concert                                                                                             |\n",
      "|Sooo go b4 u wet ur self  @ANGELicNES: Hhuuuuhh I wanna go to this Jayz @SongzYuuup and Jeezy concert sooo bad                              |\n",
      "|@Magpiez uhm who in their right mind would pass up a John mayer concert?!?                                                                  |\n",
      "|awwww :) RT @_tierra: How cute! RT @Djrayyadig: I'm even more excited that I'm at the concert w/ @allantemitchell                           |\n",
      "|@arinicolelife are u going to the drizzy concert up there??? (State)                                                                        |\n",
      "|@Britt_Garrison jus sent me some audio from the concert lmao thats why i love my bf :)                                                      |\n",
      "|RT @CoutureiCON: I hope that everyone is at the Wharton for the FREE concert! BJ the Chicago Kid, Dom Kennedy and Keely!!                   |\n",
      "|i wish i was goin to the concert at state :( an having crack chicken later                                                                  |\n",
      "|Needs a concert asap....sept 9th come soon please.....                                                                                      |\n",
      "|I'm sittin here listenin 2 *secret lovers* n it made me lmao becuz I bet that was a long quiet ride hm frm d concert 4 d couples            |\n",
      "|Bree's heading to maryland tonight for another jonny lang concert. I've got the kids! #fb http://myloc.me/1nQui                             |\n",
      "|Jonny Lang concert, anyone else here? http://pic.gd/693682                                                                                  |\n",
      "|80s Babies Concert at Nokia Theater http://bit.ly/4wXmmO                                                                                    |\n",
      "|Bill Cosby - Cosby Joins Hancocks Birthday Concert Celebrations http://is.gd/9qlkh                                                          |\n",
      "|Whitney Houston - More Concert Woes For Houston http://is.gd/9a5zX                                                                          |\n",
      "|Whitney Houston - Houston Sparks New Health Concerns At Australia Concert http://is.gd/91Cs5                                                |\n",
      "|Jason Derulo- Helps @ BET's \"SOS: Help for Haiti\" Concert & Telethon http://is.gd/8GB7i                                                     |\n",
      "|Whitney Houston - Houston Scraps New Zealand Concert http://is.gd/8yxA3                                                                     |\n",
      "|@Ms_CPerry Concert tickets are like 150 but for the VIP is like 220-ish.. I fly southwest and plane ticket is like 250-ish...               |\n",
      "|those who had concerts... Yall know me better than that... #c'monson hahaha  http://myloc.me/1GDH7                                          |\n",
      "|RT @QueenzChicka88: Finally Off!!!Gotta get home so I can get ready to see my Boii\"HOVVVVVV\"2nite!!!:) -- U go to alllll his concerts! Lol  |\n",
      "|@juliembaby julz u going to the hov concert??                                                                                               |\n",
      "+--------------------------------------------------------------------------------------------------------------------------------------------+\n",
      "only showing top 30 rows\n",
      "\n"
     ]
    }
   ],
   "source": [
    "concert_tweets.select(\"t_text\").show(30, truncate=False)"
   ]
  },
  {
   "cell_type": "markdown",
   "metadata": {},
   "source": [
    "These are looking pretty concert-oriented! I want to see if we could catch some more tweets with a more inclusive filter:"
   ]
  },
  {
   "cell_type": "markdown",
   "metadata": {},
   "source": [
    "## Basic Classifier: contains the word concert or similar words"
   ]
  },
  {
   "cell_type": "code",
   "execution_count": 37,
   "metadata": {},
   "outputs": [],
   "source": [
    "concert_plus = tweets.withColumn('concert', F.array_contains('finished_clean_lemma', 'concert'))\\\n",
    "                     .withColumn('tour', F.array_contains('finished_clean_lemma', 'tour'))\\\n",
    "                     .withColumn('gig', F.array_contains('finished_clean_lemma', 'gig'))\\\n",
    "                     .withColumn('show', F.array_contains('finished_clean_lemma', 'show'))\n",
    "concert_plus = concert_plus.withColumn('concert_like', col('concert')|col('tour')|col('gig'))\n",
    "concert_plus = concert_plus.filter(concert_plus.concert_like == True)"
   ]
  },
  {
   "cell_type": "code",
   "execution_count": 38,
   "metadata": {},
   "outputs": [
    {
     "name": "stdout",
     "output_type": "stream",
     "text": [
      "+--------------------------------------------------------------------------------------------------------------------------------------------+\n",
      "|t_text                                                                                                                                      |\n",
      "+--------------------------------------------------------------------------------------------------------------------------------------------+\n",
      "|@Lauralu2u yeps I had curve than the tour.   Love my Droid                                                                                  |\n",
      "|@herRoyalStarnes I just thought of the history broke down bmw's on bdays free concert tickets in the nose bleeds p (cont) http://tl.gd/4pp7k|\n",
      "|Y is me @RandiICandy, @EpitomeOfADiva, and Leila Bunny n here singing Mary J like we Mary J. We in concert yall buy a ticket yall.          |\n",
      "|@joeymcintyre You've got to be a LITTLE bit silly on tour or you wouldn't be YOU! ;)                                                        |\n",
      "|Wrapped Product Development on samples, now headed to FedEx to snd to my client! Have fun on tour babe! Hope u like em! Wish I could twitpic|\n",
      "|@beccalexis sup Bee? How'd the shoot go? Will you be at the concert tonight?                                                                |\n",
      "|RT @BoomKack: Janet was at Lady Gaga concert tonight she is everything!!!!!! Can't touch her!                                               |\n",
      "|Up and at em..got booked for anotha gig in 10 days.. 3-5 Models, 3 looks a piece..need a intern/assistant BAD                               |\n",
      "|RT @DerrickSwerve: I Cant Wait 4 @Hollywood2BK and @HoffaBillz To Have These Hip Hop Groupies So I Can Smash All The Leftover Scraps On Tour|\n",
      "|Watching \"Shades of Brooklyn\" waiting for this pizza... #shoutouts to @HeartbreakHolly for his HBO gig, big bizne$$!!! Salute!              |\n",
      "|Concert tonight at the bellyup! The grouch& mr fab                                                                                          |\n",
      "|' My girl love me but fuck it my heart beats slow & right now the tour bus is lookin like a freak show '                                    |\n",
      "|@JCanMakeuFamous I'm wit it.. Paying gig?                                                                                                   |\n",
      "|@JaeBarz aww dnt trip.. Hardwork pays off.. You'll get ur gig.. Be ez on urself                                                             |\n",
      "|They Played #FLEX @ The Jigga Concert... And #MrHitDatHoe                                                                                   |\n",
      "|My First Concert... Then I'm seeing one of the best to ever do it                                                                           |\n",
      "|In The Library With @NickAustinG... He Tryin To Get On His Jigga Shit... Oh We Goin To The Concert Tonite                                   |\n",
      "|@RockStarRenRen lol is we going to this concert                                                                                             |\n",
      "|Sooo go b4 u wet ur self  @ANGELicNES: Hhuuuuhh I wanna go to this Jayz @SongzYuuup and Jeezy concert sooo bad                              |\n",
      "|@Magpiez uhm who in their right mind would pass up a John mayer concert?!?                                                                  |\n",
      "|awwww :) RT @_tierra: How cute! RT @Djrayyadig: I'm even more excited that I'm at the concert w/ @allantemitchell                           |\n",
      "|@arinicolelife are u going to the drizzy concert up there??? (State)                                                                        |\n",
      "|@Britt_Garrison jus sent me some audio from the concert lmao thats why i love my bf :)                                                      |\n",
      "|RT @CoutureiCON: I hope that everyone is at the Wharton for the FREE concert! BJ the Chicago Kid, Dom Kennedy and Keely!!                   |\n",
      "|i wish i was goin to the concert at state :( an having crack chicken later                                                                  |\n",
      "|You know you have a lot of music when you fill a 80gig external....                                                                         |\n",
      "|Needs a concert asap....sept 9th come soon please.....                                                                                      |\n",
      "|Nerves starting to set in..... Auditions for turning stone gig tomorrow....                                                                 |\n",
      "|Goooooh-jus :D had a fantastic day... Tour continuous tomorrow :) http://tweetphoto.com/13837678                                            |\n",
      "|@melmah  Hey, give me a shout.  I got a potential gig for you.                                                                              |\n",
      "+--------------------------------------------------------------------------------------------------------------------------------------------+\n",
      "only showing top 30 rows\n",
      "\n"
     ]
    }
   ],
   "source": [
    "concert_plus.select(\"t_text\").show(30, truncate=False)"
   ]
  },
  {
   "cell_type": "markdown",
   "metadata": {},
   "source": [
    "Looking at this super small sample, it doesn't seem like these alternate words are adding a lot to our classifier."
   ]
  },
  {
   "cell_type": "markdown",
   "metadata": {},
   "source": [
    "#### Future: maybe combination of show/tour/gig and musician/group name in addition to the concert"
   ]
  },
  {
   "cell_type": "markdown",
   "metadata": {},
   "source": [
    "Since we don't have labeled data, and I'm not sure the best technique for clustering text data in this situation. Or how we would evaluate which techniqes are doing the best job identifying our concert tweets, and whether they are worth the extra complexity/computational requirements.\n",
    "\n",
    "For now, I'm going to move on using the \"concert\" lemma classifier"
   ]
  },
  {
   "cell_type": "code",
   "execution_count": 39,
   "metadata": {},
   "outputs": [],
   "source": [
    "concert_tweets.select('user_id', 't_text', 't_dt').write.parquet('../data/concert_tweets.parquet')"
   ]
  },
  {
   "cell_type": "code",
   "execution_count": 40,
   "metadata": {},
   "outputs": [],
   "source": [
    "df = spark.read.parquet('../data/concert_tweets.parquet')"
   ]
  },
  {
   "cell_type": "code",
   "execution_count": 41,
   "metadata": {},
   "outputs": [
    {
     "name": "stdout",
     "output_type": "stream",
     "text": [
      "12444\n"
     ]
    }
   ],
   "source": [
    "df.count()\n",
    "# print(12444)"
   ]
  },
  {
   "cell_type": "code",
   "execution_count": 42,
   "metadata": {},
   "outputs": [
    {
     "name": "stdout",
     "output_type": "stream",
     "text": [
      "[Row(user_id=85691996, t_text=\"@herRoyalStarnes I just thought of the history broke down bmw's on bdays free\n",
      "concert tickets in the nose bleeds p (cont) http://tl.gd/4pp7k\", t_dt=datetime.datetime(2010, 1, 22, 10, 17, 15))]\n"
     ]
    }
   ],
   "source": [
    "# df.take(1)\n",
    "\n",
    "print(\"\"\"[Row(user_id=85691996, t_text=\"@herRoyalStarnes I just thought of the history broke down bmw's on bdays free\n",
    "concert tickets in the nose bleeds p (cont) http://tl.gd/4pp7k\", t_dt=datetime.datetime(2010, 1, 22, 10, 17, 15))]\"\"\")"
   ]
  },
  {
   "cell_type": "code",
   "execution_count": 43,
   "metadata": {},
   "outputs": [],
   "source": [
    "# rename t_text to text for use with pretrained Spark-NLP models\n",
    "df = df.withColumnRenamed('t_text', 'text')"
   ]
  },
  {
   "cell_type": "markdown",
   "metadata": {},
   "source": [
    "## Entity Recognition"
   ]
  },
  {
   "cell_type": "markdown",
   "metadata": {},
   "source": [
    "### WHEN: looking for date-related words\n",
    "\n",
    "#### Future: update \"when\" to have a non-hard-coded version of setting the year."
   ]
  },
  {
   "cell_type": "code",
   "execution_count": 44,
   "metadata": {},
   "outputs": [
    {
     "name": "stdout",
     "output_type": "stream",
     "text": [
      "match_datetime download started this may take some time.\n",
      "Approx size to download 12.9 KB\n",
      "[OK!]\n"
     ]
    }
   ],
   "source": [
    "# date matcher pretrained pipeline\n",
    "\n",
    "date_pipe = PretrainedPipeline(\"match_datetime\", lang=\"en\")\n",
    "\n",
    "date_annotation = date_pipe.transform(df)"
   ]
  },
  {
   "cell_type": "code",
   "execution_count": 45,
   "metadata": {
    "scrolled": true
   },
   "outputs": [
    {
     "name": "stdout",
     "output_type": "stream",
     "text": [
      "+------------------------------------------------------------------------------------------------------------------------------------------+-------------------+------------+\n",
      "|text                                                                                                                                      |t_dt               |result      |\n",
      "+------------------------------------------------------------------------------------------------------------------------------------------+-------------------+------------+\n",
      "|The Air Up There 11/28/2009 at Bob's Classic Kicks - Doors open at 9 concert at 10. $3 with kicks $5 without. http://bit.ly/kF6rG         |2009-11-19 10:22:31|[2009/11/28]|\n",
      "|At Maxwell concert! Common on stage.                                                                                                      |2009-10-02 19:49:37|[]          |\n",
      "|Heading out to film Cartel and The Summer Set! We will Twitpic all of you tweeters some live pictures from the concert tonight!           |2009-11-06 14:54:52|[]          |\n",
      "|super pumped for the Kelly Clarkson concert tonight!                                                                                      |2009-10-29 08:39:07|[]          |\n",
      "|heres the thing... we started off friends... it was cool but it was all pretend.. ya ya since you been gone #kellyclarkson #concert #thurs|2009-10-26 16:50:53|[]          |\n",
      "|Listening to kelly clarkson getting ready for the concert thursday night YEAAAAAAAAA  \"3 MONTHS AND IM STILL SOBER!!!!!!\"                 |2009-10-26 14:08:37|[]          |\n",
      "|It was easy to get right in front of the stage at the Kelly Clarkson concert cause you only have to push away 12 year old girls           |2009-10-30 16:28:29|[]          |\n",
      "|Yea I rocked the Kelly Clarkson shirt last night at the concert   http://pic.gd/fcafab                                                    |2009-10-30 16:27:45|[]          |\n",
      "|i hope this cold i got over the weekend if over and done with before i go to a three-day concert in Austin...                             |2008-09-22 08:40:03|[]          |\n",
      "|via @Festival_Watch: #mm 8.-10. Juli 2010 SUBWAY TO SALLY @ ROCKHARZ Opena.. http://bit.ly/6U7ho2 #concerts #nightlife                    |2009-12-05 20:16:12|[2010/07/01]|\n",
      "|Y&T concert performing \"summertime girls\" - Luis grabs the iPhone and plows thru to the front row.  http://twitvid.com/13AE6              |2009-09-20 10:40:25|[]          |\n",
      "|Now im watchin this kanye concert i tivo'd... First song he f's up \"she dont believe in shoes...(pauses)... But she believe in...\"        |2009-09-17 00:09:00|[]          |\n",
      "|I found my person to go to The Academy Is... concert (hopefully) with me!! =D ♥♥♥                                                         |2009-09-14 15:09:00|[]          |\n",
      "|Columbus: Concert video in new show http://bit.ly/1ImOtc                                                                                  |2009-09-19 06:09:00|[]          |\n",
      "|Columbus: Concert video in new show http://bit.ly/OU5pW                                                                                   |2009-09-19 06:09:00|[]          |\n",
      "|Huge outdoor \"Peace without Borders\" concert in Havana http://xrl.us/bfncwo I didn't think they had enough electricity                    |2009-09-21 09:24:48|[]          |\n",
      "|is looking getting ready for the concert tonight. GO A LESSON IN CHAOS!!!                                                                 |2009-08-01 17:08:00|[]          |\n",
      "|RT @SlickTalkBoss 3 tickets left... Buju banton,fabolous, beenie man and rick ross concert 2morrow @ bear stadium! http://pic.gd/a1eb84   |2009-09-19 19:09:00|[]          |\n",
      "|We're giving away FREE R. KELLY CONCERT TICKETS IN 22 DIFFERENT PLACES!!?? http://bit.ly/BmHsY ;)                                         |2009-09-20 18:09:00|[]          |\n",
      "|We're giving away FREE R. KELLY CONCERT TICKETS IN 22 DIFFERENT PLACES!!?? http://bit.ly/BmHsY                                            |2009-09-20 18:09:00|[]          |\n",
      "+------------------------------------------------------------------------------------------------------------------------------------------+-------------------+------------+\n",
      "only showing top 20 rows\n",
      "\n"
     ]
    }
   ],
   "source": [
    "# check the result\n",
    "date_annotation.select('text', 't_dt', 'date.result').show(truncate=False)"
   ]
  },
  {
   "cell_type": "markdown",
   "metadata": {},
   "source": [
    "This is cool! It is using day-oriented words, like yesterday! I wonder if there is a way to set a reference date (as opposed to today). At least for the \"Radio One concert\" tweet... Doesn't look like there is, but I can use the date it outputs, get their relation with today, and apply to the date.\n",
    "\n",
    "I'm not sure how it got 12/06 from the \"Decemberists concert tonight\" tweet. - maybe december + the 6 hours later?"
   ]
  },
  {
   "cell_type": "code",
   "execution_count": 46,
   "metadata": {},
   "outputs": [],
   "source": [
    "# rename date.result to date_result\n",
    "date_annotation = date_annotation.select('text', F.col('date.result').alias('date_result'))"
   ]
  },
  {
   "cell_type": "code",
   "execution_count": 47,
   "metadata": {},
   "outputs": [],
   "source": [
    "# unfortunately, I'm getting this error that I didn't get when coding on a smaller sample :(\n",
    "\n",
    "\n",
    "# Py4JJavaError: An error occurred while calling o6798.collectToPython.\n",
    "# : org.apache.spark.SparkException: Job aborted due to stage failure: Task 1 in stage 126.0 failed 1 times, \n",
    "# most recent failure: Lost task 1.0 in stage 126.0 (TID 1298, localhost, executor driver): \n",
    "# org.apache.spark.SparkException: Failed to execute user defined function($anonfun$dfAnnotate$1: \n",
    "# (array<array<struct<annotatorType:string,begin:int,end:int,result:string,metadata:map<string,string>,embeddings:\n",
    "#  array<float>>>>) => array<struct<annotatorType:string,begin:int,end:int,result:string,metadata:map<string,string>,\n",
    "# embeddings:array<float>>>)\n",
    "\n",
    "# I'm going to move on for today\n",
    "\n",
    "# date_annotation.select('date_result').collect()\n"
   ]
  },
  {
   "cell_type": "markdown",
   "metadata": {},
   "source": [
    "For the exercise's sake, I will continue with the date transformation from this 1% sample.\n",
    "\n",
    "**Future: Investigate this error"
   ]
  },
  {
   "cell_type": "code",
   "execution_count": 52,
   "metadata": {},
   "outputs": [],
   "source": [
    "# try with a sample of the dataframe\n",
    "date_annotation = date_pipe.transform(df.sample(fraction=.01, seed=5))\n",
    "\n",
    "# rename date.result to date_result\n",
    "date_annotation = date_annotation.select('text', F.col('date.result').alias('date_result'))\n",
    "\n",
    "# test for error\n",
    "# date_annotation.select('date_result').collect()"
   ]
  },
  {
   "cell_type": "code",
   "execution_count": 54,
   "metadata": {},
   "outputs": [
    {
     "name": "stdout",
     "output_type": "stream",
     "text": [
      "+----------------+\n",
      "|max(no_of_dates)|\n",
      "+----------------+\n",
      "|               1|\n",
      "+----------------+\n"
     ]
    }
   ],
   "source": [
    "# date_annotation.select(F.size(\"date_result\").alias(\"no_of_dates\")).agg({\"no_of_dates\": \"max\"}).show()\n",
    "\n",
    "print(\"\"\"+----------------+\n",
    "|max(no_of_dates)|\n",
    "+----------------+\n",
    "|               1|\n",
    "+----------------+\"\"\")"
   ]
  },
  {
   "cell_type": "markdown",
   "metadata": {},
   "source": [
    "I'm deciding to take the first date, since in my small sample, no tweet had more than one."
   ]
  },
  {
   "cell_type": "code",
   "execution_count": 55,
   "metadata": {},
   "outputs": [],
   "source": [
    "# get first date from list of dates\n",
    "date_annotation = date_annotation.withColumn('date_result', F.col('date_result')[0])\n",
    "\n",
    "# join the extracted date df with the original data frame\n",
    "df = df.join(date_annotation, on='text', how='left')\n",
    "\n",
    "# convert to dateType\n",
    "df = df.withColumn('date_result', F.to_date(df['date_result'],'yyyy/MM/dd'))\n",
    "\n",
    "# add a column with the difference in date between the date produced by the date extractor and today\n",
    "df = df.withColumn('date_diff', F.datediff(F.current_timestamp(), df['date_result']))\n",
    "\n",
    "# if date_result is within two weeks of today, get difference, and apply it to timestamp\n",
    "# elif date_result has this year's date. reset the year to match the year of the tweet \n",
    "# (hardcoeded as 10 years)\n",
    "df = df.withColumn('when', F.when((col('date_diff') > -14),\n",
    "                                      F.expr(\"date_add(t_dt, date_diff)\"))\\\n",
    "                          .when((F.col('date_diff') < -14) \n",
    "                                & (F.year('date_result') == F.year(F.current_timestamp())), \n",
    "                                F.date_sub('date_result', 3652))\n",
    "            )\n",
    "\n",
    "# drop the extra columns\n",
    "df = df.drop('date_result', 'date_diff', 't_dt')"
   ]
  },
  {
   "cell_type": "code",
   "execution_count": 56,
   "metadata": {},
   "outputs": [],
   "source": [
    "# convert to string for compatibility with pyarrow\n",
    "df = df.withColumn('when', F.col('when').cast('string'))\n",
    "\n",
    "# I'm having some errors with toPandas() so I'm going to convert to pandas in stages\n",
    "date_df = df.toPandas()"
   ]
  },
  {
   "cell_type": "markdown",
   "metadata": {},
   "source": [
    "## Other entities"
   ]
  },
  {
   "cell_type": "markdown",
   "metadata": {},
   "source": [
    "Since we only have 12k records and pyspark doesn't support typedLit (passing arrays to udfs) yet, I'm going to collect the text information we need for the rest of the data extraction, and move to pandas.\n",
    "\n",
    "After a look at several entity models on a small sample, I decided to go with the OntoNotes entities large."
   ]
  },
  {
   "cell_type": "code",
   "execution_count": 57,
   "metadata": {},
   "outputs": [
    {
     "name": "stdout",
     "output_type": "stream",
     "text": [
      "onto_recognize_entities_lg download started this may take some time.\n",
      "Approx size to download 2.3 GB\n",
      "[OK!]\n"
     ]
    }
   ],
   "source": [
    "# use pretrained pipeline for NER, Tokens\n",
    "pipeline_entities = PretrainedPipeline(\"onto_recognize_entities_lg\", lang=\"en\")\n",
    "annotation_entities = pipeline_entities.transform(df)"
   ]
  },
  {
   "cell_type": "code",
   "execution_count": 58,
   "metadata": {},
   "outputs": [],
   "source": [
    "# convert the needed columns to pandas\n",
    "entities_df = annotation_entities.select(F.col('entities.result').alias('entities'),\n",
    "                                            F.col('ner.result').alias('ners'),\n",
    "                                            F.col('token.result').alias('tokens'),\n",
    "                                           'text')\\\n",
    "                                .toPandas()"
   ]
  },
  {
   "cell_type": "code",
   "execution_count": 59,
   "metadata": {},
   "outputs": [
    {
     "name": "stdout",
     "output_type": "stream",
     "text": [
      "analyze_sentimentdl_use_twitter download started this may take some time.\n",
      "Approx size to download 928.3 MB\n",
      "[OK!]\n"
     ]
    }
   ],
   "source": [
    "# use pretrained pipeline for sentiment extraction\n",
    "pipe_sentiment = PretrainedPipeline(\"analyze_sentimentdl_use_twitter\", lang=\"en\")\n",
    "annotation_sentiment = pipe_sentiment.transform(df)"
   ]
  },
  {
   "cell_type": "code",
   "execution_count": 60,
   "metadata": {},
   "outputs": [
    {
     "name": "stdout",
     "output_type": "stream",
     "text": [
      "+------------------------------------------------------------------------------------------------------------------------------------------+----------+\n",
      "|text                                                                                                                                      |result    |\n",
      "+------------------------------------------------------------------------------------------------------------------------------------------+----------+\n",
      "|The Air Up There 11/28/2009 at Bob's Classic Kicks - Doors open at 9 concert at 10. $3 with kicks $5 without. http://bit.ly/kF6rG         |[positive]|\n",
      "|At Maxwell concert! Common on stage.                                                                                                      |[positive]|\n",
      "|Heading out to film Cartel and The Summer Set! We will Twitpic all of you tweeters some live pictures from the concert tonight!           |[positive]|\n",
      "|super pumped for the Kelly Clarkson concert tonight!                                                                                      |[positive]|\n",
      "|heres the thing... we started off friends... it was cool but it was all pretend.. ya ya since you been gone #kellyclarkson #concert #thurs|[negative]|\n",
      "|Listening to kelly clarkson getting ready for the concert thursday night YEAAAAAAAAA  \"3 MONTHS AND IM STILL SOBER!!!!!!\"                 |[positive]|\n",
      "|It was easy to get right in front of the stage at the Kelly Clarkson concert cause you only have to push away 12 year old girls           |[negative]|\n",
      "|Yea I rocked the Kelly Clarkson shirt last night at the concert   http://pic.gd/fcafab                                                    |[positive]|\n",
      "|i hope this cold i got over the weekend if over and done with before i go to a three-day concert in Austin...                             |[negative]|\n",
      "|via @Festival_Watch: #mm 8.-10. Juli 2010 SUBWAY TO SALLY @ ROCKHARZ Opena.. http://bit.ly/6U7ho2 #concerts #nightlife                    |[positive]|\n",
      "+------------------------------------------------------------------------------------------------------------------------------------------+----------+\n",
      "only showing top 10 rows\n",
      "\n"
     ]
    }
   ],
   "source": [
    "annotation_sentiment.select('text', 'sentiment.result').show(10, truncate=False)"
   ]
  },
  {
   "cell_type": "code",
   "execution_count": 61,
   "metadata": {},
   "outputs": [],
   "source": [
    "# convert sentiments to pandas\n",
    "sentiments_df = annotation_sentiment.select('text',\n",
    "                                            F.col('sentiment.result').alias('sentiments'))\\\n",
    "                                    .toPandas()"
   ]
  },
  {
   "cell_type": "code",
   "execution_count": 62,
   "metadata": {},
   "outputs": [],
   "source": [
    "# end spark session\n",
    "spark.stop()"
   ]
  },
  {
   "cell_type": "markdown",
   "metadata": {},
   "source": [
    "## Combine dataframes in pandas"
   ]
  },
  {
   "cell_type": "code",
   "execution_count": 63,
   "metadata": {},
   "outputs": [
    {
     "name": "stdout",
     "output_type": "stream",
     "text": [
      "(12444, 3)\n"
     ]
    },
    {
     "data": {
      "text/html": [
       "<div>\n",
       "<style scoped>\n",
       "    .dataframe tbody tr th:only-of-type {\n",
       "        vertical-align: middle;\n",
       "    }\n",
       "\n",
       "    .dataframe tbody tr th {\n",
       "        vertical-align: top;\n",
       "    }\n",
       "\n",
       "    .dataframe thead th {\n",
       "        text-align: right;\n",
       "    }\n",
       "</style>\n",
       "<table border=\"1\" class=\"dataframe\">\n",
       "  <thead>\n",
       "    <tr style=\"text-align: right;\">\n",
       "      <th></th>\n",
       "      <th>text</th>\n",
       "      <th>user_id</th>\n",
       "      <th>when</th>\n",
       "    </tr>\n",
       "  </thead>\n",
       "  <tbody>\n",
       "    <tr>\n",
       "      <td>0</td>\n",
       "      <td>The Air Up There 11/28/2009 at Bob's Classic K...</td>\n",
       "      <td>33947545</td>\n",
       "      <td>None</td>\n",
       "    </tr>\n",
       "    <tr>\n",
       "      <td>1</td>\n",
       "      <td>At Maxwell concert! Common on stage.</td>\n",
       "      <td>26083271</td>\n",
       "      <td>None</td>\n",
       "    </tr>\n",
       "    <tr>\n",
       "      <td>2</td>\n",
       "      <td>Heading out to film Cartel and The Summer Set!...</td>\n",
       "      <td>38535159</td>\n",
       "      <td>None</td>\n",
       "    </tr>\n",
       "    <tr>\n",
       "      <td>3</td>\n",
       "      <td>super pumped for the Kelly Clarkson concert to...</td>\n",
       "      <td>2057421</td>\n",
       "      <td>None</td>\n",
       "    </tr>\n",
       "    <tr>\n",
       "      <td>4</td>\n",
       "      <td>heres the thing... we started off friends... i...</td>\n",
       "      <td>2057421</td>\n",
       "      <td>None</td>\n",
       "    </tr>\n",
       "  </tbody>\n",
       "</table>\n",
       "</div>"
      ],
      "text/plain": [
       "                                                text   user_id  when\n",
       "0  The Air Up There 11/28/2009 at Bob's Classic K...  33947545  None\n",
       "1               At Maxwell concert! Common on stage.  26083271  None\n",
       "2  Heading out to film Cartel and The Summer Set!...  38535159  None\n",
       "3  super pumped for the Kelly Clarkson concert to...   2057421  None\n",
       "4  heres the thing... we started off friends... i...   2057421  None"
      ]
     },
     "execution_count": 63,
     "metadata": {},
     "output_type": "execute_result"
    }
   ],
   "source": [
    "# confirm head and shape\n",
    "print(date_df.shape)\n",
    "date_df.head()"
   ]
  },
  {
   "cell_type": "code",
   "execution_count": 64,
   "metadata": {},
   "outputs": [
    {
     "name": "stdout",
     "output_type": "stream",
     "text": [
      "(12444, 2)\n"
     ]
    },
    {
     "data": {
      "text/html": [
       "<div>\n",
       "<style scoped>\n",
       "    .dataframe tbody tr th:only-of-type {\n",
       "        vertical-align: middle;\n",
       "    }\n",
       "\n",
       "    .dataframe tbody tr th {\n",
       "        vertical-align: top;\n",
       "    }\n",
       "\n",
       "    .dataframe thead th {\n",
       "        text-align: right;\n",
       "    }\n",
       "</style>\n",
       "<table border=\"1\" class=\"dataframe\">\n",
       "  <thead>\n",
       "    <tr style=\"text-align: right;\">\n",
       "      <th></th>\n",
       "      <th>text</th>\n",
       "      <th>sentiments</th>\n",
       "    </tr>\n",
       "  </thead>\n",
       "  <tbody>\n",
       "    <tr>\n",
       "      <td>0</td>\n",
       "      <td>The Air Up There 11/28/2009 at Bob's Classic K...</td>\n",
       "      <td>[positive]</td>\n",
       "    </tr>\n",
       "    <tr>\n",
       "      <td>1</td>\n",
       "      <td>At Maxwell concert! Common on stage.</td>\n",
       "      <td>[positive]</td>\n",
       "    </tr>\n",
       "    <tr>\n",
       "      <td>2</td>\n",
       "      <td>Heading out to film Cartel and The Summer Set!...</td>\n",
       "      <td>[positive]</td>\n",
       "    </tr>\n",
       "    <tr>\n",
       "      <td>3</td>\n",
       "      <td>super pumped for the Kelly Clarkson concert to...</td>\n",
       "      <td>[positive]</td>\n",
       "    </tr>\n",
       "    <tr>\n",
       "      <td>4</td>\n",
       "      <td>heres the thing... we started off friends... i...</td>\n",
       "      <td>[negative]</td>\n",
       "    </tr>\n",
       "  </tbody>\n",
       "</table>\n",
       "</div>"
      ],
      "text/plain": [
       "                                                text  sentiments\n",
       "0  The Air Up There 11/28/2009 at Bob's Classic K...  [positive]\n",
       "1               At Maxwell concert! Common on stage.  [positive]\n",
       "2  Heading out to film Cartel and The Summer Set!...  [positive]\n",
       "3  super pumped for the Kelly Clarkson concert to...  [positive]\n",
       "4  heres the thing... we started off friends... i...  [negative]"
      ]
     },
     "execution_count": 64,
     "metadata": {},
     "output_type": "execute_result"
    }
   ],
   "source": [
    "print(sentiments_df.shape)\n",
    "sentiments_df.head()"
   ]
  },
  {
   "cell_type": "code",
   "execution_count": 66,
   "metadata": {},
   "outputs": [
    {
     "name": "stdout",
     "output_type": "stream",
     "text": [
      "(12444, 4)\n"
     ]
    },
    {
     "data": {
      "text/html": [
       "<div>\n",
       "<style scoped>\n",
       "    .dataframe tbody tr th:only-of-type {\n",
       "        vertical-align: middle;\n",
       "    }\n",
       "\n",
       "    .dataframe tbody tr th {\n",
       "        vertical-align: top;\n",
       "    }\n",
       "\n",
       "    .dataframe thead th {\n",
       "        text-align: right;\n",
       "    }\n",
       "</style>\n",
       "<table border=\"1\" class=\"dataframe\">\n",
       "  <thead>\n",
       "    <tr style=\"text-align: right;\">\n",
       "      <th></th>\n",
       "      <th>entities</th>\n",
       "      <th>ners</th>\n",
       "      <th>tokens</th>\n",
       "      <th>text</th>\n",
       "    </tr>\n",
       "  </thead>\n",
       "  <tbody>\n",
       "    <tr>\n",
       "      <td>0</td>\n",
       "      <td>[The Air Up, 11/28/2009, Bob, 9, 10, $3, $5]</td>\n",
       "      <td>[B-PRODUCT, I-PRODUCT, I-PRODUCT, O, B-DATE, O...</td>\n",
       "      <td>[The, Air, Up, There, 11/28/2009, at, Bob, 's,...</td>\n",
       "      <td>The Air Up There 11/28/2009 at Bob's Classic K...</td>\n",
       "    </tr>\n",
       "    <tr>\n",
       "      <td>1</td>\n",
       "      <td>[Maxwell]</td>\n",
       "      <td>[O, B-FAC, O, O, O, O, O, O]</td>\n",
       "      <td>[At, Maxwell, concert, !, Common, on, stage, .]</td>\n",
       "      <td>At Maxwell concert! Common on stage.</td>\n",
       "    </tr>\n",
       "    <tr>\n",
       "      <td>2</td>\n",
       "      <td>[Cartel and The Summer Set, tonight]</td>\n",
       "      <td>[O, O, O, O, B-WORK_OF_ART, I-WORK_OF_ART, I-W...</td>\n",
       "      <td>[Heading, out, to, film, Cartel, and, The, Sum...</td>\n",
       "      <td>Heading out to film Cartel and The Summer Set!...</td>\n",
       "    </tr>\n",
       "    <tr>\n",
       "      <td>3</td>\n",
       "      <td>[the Kelly Clarkson, tonight]</td>\n",
       "      <td>[O, O, O, B-ORG, I-ORG, I-ORG, O, B-TIME, O]</td>\n",
       "      <td>[super, pumped, for, the, Kelly, Clarkson, con...</td>\n",
       "      <td>super pumped for the Kelly Clarkson concert to...</td>\n",
       "    </tr>\n",
       "    <tr>\n",
       "      <td>4</td>\n",
       "      <td>[]</td>\n",
       "      <td>[O, O, O, O, O, O, O, O, O, O, O, O, O, O, O, ...</td>\n",
       "      <td>[heres, the, thing, ., ., ., we, started, off,...</td>\n",
       "      <td>heres the thing... we started off friends... i...</td>\n",
       "    </tr>\n",
       "    <tr>\n",
       "      <td>5</td>\n",
       "      <td>[YEAAAAAAAAA  \", 3 MONTHS]</td>\n",
       "      <td>[O, O, O, O, O, O, O, O, O, O, O, B-WORK_OF_AR...</td>\n",
       "      <td>[Listening, to, kelly, clarkson, getting, read...</td>\n",
       "      <td>Listening to kelly clarkson getting ready for ...</td>\n",
       "    </tr>\n",
       "    <tr>\n",
       "      <td>6</td>\n",
       "      <td>[Kelly Clarkson, 12 year old]</td>\n",
       "      <td>[O, O, O, O, O, O, O, O, O, O, O, O, O, B-PERS...</td>\n",
       "      <td>[It, was, easy, to, get, right, in, front, of,...</td>\n",
       "      <td>It was easy to get right in front of the stage...</td>\n",
       "    </tr>\n",
       "    <tr>\n",
       "      <td>7</td>\n",
       "      <td>[Kelly Clarkson, last night]</td>\n",
       "      <td>[O, O, O, O, B-PERSON, I-PERSON, O, B-TIME, I-...</td>\n",
       "      <td>[Yea, I, rocked, the, Kelly, Clarkson, shirt, ...</td>\n",
       "      <td>Yea I rocked the Kelly Clarkson shirt last nig...</td>\n",
       "    </tr>\n",
       "    <tr>\n",
       "      <td>8</td>\n",
       "      <td>[three-day, Austin]</td>\n",
       "      <td>[O, O, O, O, O, O, O, O, O, O, O, O, O, O, O, ...</td>\n",
       "      <td>[i, hope, this, cold, i, got, over, the, weeke...</td>\n",
       "      <td>i hope this cold i got over the weekend if ove...</td>\n",
       "    </tr>\n",
       "    <tr>\n",
       "      <td>9</td>\n",
       "      <td>[Juli 2010, SUBWAY, SALLY, #concerts #nightlife]</td>\n",
       "      <td>[O, O, O, O, O, O, B-PERSON, I-PERSON, B-ORG, ...</td>\n",
       "      <td>[via, @, Festival_Watch, :, #mm, 8.-10., Juli,...</td>\n",
       "      <td>via @Festival_Watch: #mm 8.-10. Juli 2010 SUBW...</td>\n",
       "    </tr>\n",
       "    <tr>\n",
       "      <td>10</td>\n",
       "      <td>[Y&amp;T, \" - Luis]</td>\n",
       "      <td>[B-ORG, O, O, O, O, O, B-WORK_OF_ART, I-WORK_O...</td>\n",
       "      <td>[Y&amp;T, concert, performing, \", summertime, girl...</td>\n",
       "      <td>Y&amp;T concert performing \"summertime girls\" - Lu...</td>\n",
       "    </tr>\n",
       "    <tr>\n",
       "      <td>11</td>\n",
       "      <td>[First]</td>\n",
       "      <td>[O, O, O, O, O, O, O, O, O, O, O, B-ORDINAL, O...</td>\n",
       "      <td>[Now, im, watchin, this, kanye, concert, i, ti...</td>\n",
       "      <td>Now im watchin this kanye concert i tivo'd... ...</td>\n",
       "    </tr>\n",
       "    <tr>\n",
       "      <td>12</td>\n",
       "      <td>[The Academy Is]</td>\n",
       "      <td>[O, O, O, O, O, O, O, B-ORG, I-ORG, I-ORG, O, ...</td>\n",
       "      <td>[I, found, my, person, to, go, to, The, Academ...</td>\n",
       "      <td>I found my person to go to The Academy Is... c...</td>\n",
       "    </tr>\n",
       "    <tr>\n",
       "      <td>13</td>\n",
       "      <td>[]</td>\n",
       "      <td>[O, O, O, O, O, O, O, O]</td>\n",
       "      <td>[Columbus, :, Concert, video, in, new, show, h...</td>\n",
       "      <td>Columbus: Concert video in new show http://bit...</td>\n",
       "    </tr>\n",
       "    <tr>\n",
       "      <td>14</td>\n",
       "      <td>[]</td>\n",
       "      <td>[O, O, O, O, O, O, O, O]</td>\n",
       "      <td>[Columbus, :, Concert, video, in, new, show, h...</td>\n",
       "      <td>Columbus: Concert video in new show http://bit...</td>\n",
       "    </tr>\n",
       "    <tr>\n",
       "      <td>15</td>\n",
       "      <td>[Peace without Borders, Havana]</td>\n",
       "      <td>[O, O, O, B-WORK_OF_ART, I-WORK_OF_ART, I-WORK...</td>\n",
       "      <td>[Huge, outdoor, \", Peace, without, Borders, \",...</td>\n",
       "      <td>Huge outdoor \"Peace without Borders\" concert i...</td>\n",
       "    </tr>\n",
       "    <tr>\n",
       "      <td>16</td>\n",
       "      <td>[tonight]</td>\n",
       "      <td>[O, O, O, O, O, O, O, B-TIME, O, O, O, O, O, O...</td>\n",
       "      <td>[is, looking, getting, ready, for, the, concer...</td>\n",
       "      <td>is looking getting ready for the concert tonig...</td>\n",
       "    </tr>\n",
       "    <tr>\n",
       "      <td>17</td>\n",
       "      <td>[3, Buju, 2morrow]</td>\n",
       "      <td>[O, O, O, B-CARDINAL, O, O, O, O, B-PERSON, O,...</td>\n",
       "      <td>[RT, @, SlickTalkBoss, 3, tickets, left, ., .....</td>\n",
       "      <td>RT @SlickTalkBoss 3 tickets left... Buju banto...</td>\n",
       "    </tr>\n",
       "    <tr>\n",
       "      <td>18</td>\n",
       "      <td>[22]</td>\n",
       "      <td>[O, O, O, O, O, O, O, O, O, O, B-CARDINAL, O, ...</td>\n",
       "      <td>[We, 're, giving, away, FREE, R., KELLY, CONCE...</td>\n",
       "      <td>We're giving away FREE R. KELLY CONCERT TICKET...</td>\n",
       "    </tr>\n",
       "    <tr>\n",
       "      <td>19</td>\n",
       "      <td>[22]</td>\n",
       "      <td>[O, O, O, O, O, O, O, O, O, O, B-CARDINAL, O, ...</td>\n",
       "      <td>[We, 're, giving, away, FREE, R., KELLY, CONCE...</td>\n",
       "      <td>We're giving away FREE R. KELLY CONCERT TICKET...</td>\n",
       "    </tr>\n",
       "  </tbody>\n",
       "</table>\n",
       "</div>"
      ],
      "text/plain": [
       "                                            entities  \\\n",
       "0       [The Air Up, 11/28/2009, Bob, 9, 10, $3, $5]   \n",
       "1                                          [Maxwell]   \n",
       "2               [Cartel and The Summer Set, tonight]   \n",
       "3                      [the Kelly Clarkson, tonight]   \n",
       "4                                                 []   \n",
       "5                         [YEAAAAAAAAA  \", 3 MONTHS]   \n",
       "6                      [Kelly Clarkson, 12 year old]   \n",
       "7                       [Kelly Clarkson, last night]   \n",
       "8                                [three-day, Austin]   \n",
       "9   [Juli 2010, SUBWAY, SALLY, #concerts #nightlife]   \n",
       "10                                   [Y&T, \" - Luis]   \n",
       "11                                           [First]   \n",
       "12                                  [The Academy Is]   \n",
       "13                                                []   \n",
       "14                                                []   \n",
       "15                   [Peace without Borders, Havana]   \n",
       "16                                         [tonight]   \n",
       "17                                [3, Buju, 2morrow]   \n",
       "18                                              [22]   \n",
       "19                                              [22]   \n",
       "\n",
       "                                                 ners  \\\n",
       "0   [B-PRODUCT, I-PRODUCT, I-PRODUCT, O, B-DATE, O...   \n",
       "1                        [O, B-FAC, O, O, O, O, O, O]   \n",
       "2   [O, O, O, O, B-WORK_OF_ART, I-WORK_OF_ART, I-W...   \n",
       "3        [O, O, O, B-ORG, I-ORG, I-ORG, O, B-TIME, O]   \n",
       "4   [O, O, O, O, O, O, O, O, O, O, O, O, O, O, O, ...   \n",
       "5   [O, O, O, O, O, O, O, O, O, O, O, B-WORK_OF_AR...   \n",
       "6   [O, O, O, O, O, O, O, O, O, O, O, O, O, B-PERS...   \n",
       "7   [O, O, O, O, B-PERSON, I-PERSON, O, B-TIME, I-...   \n",
       "8   [O, O, O, O, O, O, O, O, O, O, O, O, O, O, O, ...   \n",
       "9   [O, O, O, O, O, O, B-PERSON, I-PERSON, B-ORG, ...   \n",
       "10  [B-ORG, O, O, O, O, O, B-WORK_OF_ART, I-WORK_O...   \n",
       "11  [O, O, O, O, O, O, O, O, O, O, O, B-ORDINAL, O...   \n",
       "12  [O, O, O, O, O, O, O, B-ORG, I-ORG, I-ORG, O, ...   \n",
       "13                           [O, O, O, O, O, O, O, O]   \n",
       "14                           [O, O, O, O, O, O, O, O]   \n",
       "15  [O, O, O, B-WORK_OF_ART, I-WORK_OF_ART, I-WORK...   \n",
       "16  [O, O, O, O, O, O, O, B-TIME, O, O, O, O, O, O...   \n",
       "17  [O, O, O, B-CARDINAL, O, O, O, O, B-PERSON, O,...   \n",
       "18  [O, O, O, O, O, O, O, O, O, O, B-CARDINAL, O, ...   \n",
       "19  [O, O, O, O, O, O, O, O, O, O, B-CARDINAL, O, ...   \n",
       "\n",
       "                                               tokens  \\\n",
       "0   [The, Air, Up, There, 11/28/2009, at, Bob, 's,...   \n",
       "1     [At, Maxwell, concert, !, Common, on, stage, .]   \n",
       "2   [Heading, out, to, film, Cartel, and, The, Sum...   \n",
       "3   [super, pumped, for, the, Kelly, Clarkson, con...   \n",
       "4   [heres, the, thing, ., ., ., we, started, off,...   \n",
       "5   [Listening, to, kelly, clarkson, getting, read...   \n",
       "6   [It, was, easy, to, get, right, in, front, of,...   \n",
       "7   [Yea, I, rocked, the, Kelly, Clarkson, shirt, ...   \n",
       "8   [i, hope, this, cold, i, got, over, the, weeke...   \n",
       "9   [via, @, Festival_Watch, :, #mm, 8.-10., Juli,...   \n",
       "10  [Y&T, concert, performing, \", summertime, girl...   \n",
       "11  [Now, im, watchin, this, kanye, concert, i, ti...   \n",
       "12  [I, found, my, person, to, go, to, The, Academ...   \n",
       "13  [Columbus, :, Concert, video, in, new, show, h...   \n",
       "14  [Columbus, :, Concert, video, in, new, show, h...   \n",
       "15  [Huge, outdoor, \", Peace, without, Borders, \",...   \n",
       "16  [is, looking, getting, ready, for, the, concer...   \n",
       "17  [RT, @, SlickTalkBoss, 3, tickets, left, ., .....   \n",
       "18  [We, 're, giving, away, FREE, R., KELLY, CONCE...   \n",
       "19  [We, 're, giving, away, FREE, R., KELLY, CONCE...   \n",
       "\n",
       "                                                 text  \n",
       "0   The Air Up There 11/28/2009 at Bob's Classic K...  \n",
       "1                At Maxwell concert! Common on stage.  \n",
       "2   Heading out to film Cartel and The Summer Set!...  \n",
       "3   super pumped for the Kelly Clarkson concert to...  \n",
       "4   heres the thing... we started off friends... i...  \n",
       "5   Listening to kelly clarkson getting ready for ...  \n",
       "6   It was easy to get right in front of the stage...  \n",
       "7   Yea I rocked the Kelly Clarkson shirt last nig...  \n",
       "8   i hope this cold i got over the weekend if ove...  \n",
       "9   via @Festival_Watch: #mm 8.-10. Juli 2010 SUBW...  \n",
       "10  Y&T concert performing \"summertime girls\" - Lu...  \n",
       "11  Now im watchin this kanye concert i tivo'd... ...  \n",
       "12  I found my person to go to The Academy Is... c...  \n",
       "13  Columbus: Concert video in new show http://bit...  \n",
       "14  Columbus: Concert video in new show http://bit...  \n",
       "15  Huge outdoor \"Peace without Borders\" concert i...  \n",
       "16  is looking getting ready for the concert tonig...  \n",
       "17  RT @SlickTalkBoss 3 tickets left... Buju banto...  \n",
       "18  We're giving away FREE R. KELLY CONCERT TICKET...  \n",
       "19  We're giving away FREE R. KELLY CONCERT TICKET...  "
      ]
     },
     "execution_count": 66,
     "metadata": {},
     "output_type": "execute_result"
    }
   ],
   "source": [
    "print(entities_df.shape)\n",
    "entities_df.head(20)"
   ]
  },
  {
   "cell_type": "code",
   "execution_count": 67,
   "metadata": {},
   "outputs": [],
   "source": [
    "df_pd = date_df.join(sentiments_df.drop(columns='text'))"
   ]
  },
  {
   "cell_type": "code",
   "execution_count": 68,
   "metadata": {},
   "outputs": [],
   "source": [
    "df_pd = df_pd.join(entities_df.drop(columns='text'))"
   ]
  },
  {
   "cell_type": "code",
   "execution_count": 69,
   "metadata": {},
   "outputs": [
    {
     "data": {
      "text/html": [
       "<div>\n",
       "<style scoped>\n",
       "    .dataframe tbody tr th:only-of-type {\n",
       "        vertical-align: middle;\n",
       "    }\n",
       "\n",
       "    .dataframe tbody tr th {\n",
       "        vertical-align: top;\n",
       "    }\n",
       "\n",
       "    .dataframe thead th {\n",
       "        text-align: right;\n",
       "    }\n",
       "</style>\n",
       "<table border=\"1\" class=\"dataframe\">\n",
       "  <thead>\n",
       "    <tr style=\"text-align: right;\">\n",
       "      <th></th>\n",
       "      <th>text</th>\n",
       "      <th>user_id</th>\n",
       "      <th>when</th>\n",
       "      <th>sentiments</th>\n",
       "      <th>entities</th>\n",
       "      <th>ners</th>\n",
       "      <th>tokens</th>\n",
       "    </tr>\n",
       "  </thead>\n",
       "  <tbody>\n",
       "    <tr>\n",
       "      <td>0</td>\n",
       "      <td>The Air Up There 11/28/2009 at Bob's Classic K...</td>\n",
       "      <td>33947545</td>\n",
       "      <td>None</td>\n",
       "      <td>[positive]</td>\n",
       "      <td>[The Air Up, 11/28/2009, Bob, 9, 10, $3, $5]</td>\n",
       "      <td>[B-PRODUCT, I-PRODUCT, I-PRODUCT, O, B-DATE, O...</td>\n",
       "      <td>[The, Air, Up, There, 11/28/2009, at, Bob, 's,...</td>\n",
       "    </tr>\n",
       "    <tr>\n",
       "      <td>1</td>\n",
       "      <td>At Maxwell concert! Common on stage.</td>\n",
       "      <td>26083271</td>\n",
       "      <td>None</td>\n",
       "      <td>[positive]</td>\n",
       "      <td>[Maxwell]</td>\n",
       "      <td>[O, B-FAC, O, O, O, O, O, O]</td>\n",
       "      <td>[At, Maxwell, concert, !, Common, on, stage, .]</td>\n",
       "    </tr>\n",
       "    <tr>\n",
       "      <td>2</td>\n",
       "      <td>Heading out to film Cartel and The Summer Set!...</td>\n",
       "      <td>38535159</td>\n",
       "      <td>None</td>\n",
       "      <td>[positive]</td>\n",
       "      <td>[Cartel and The Summer Set, tonight]</td>\n",
       "      <td>[O, O, O, O, B-WORK_OF_ART, I-WORK_OF_ART, I-W...</td>\n",
       "      <td>[Heading, out, to, film, Cartel, and, The, Sum...</td>\n",
       "    </tr>\n",
       "    <tr>\n",
       "      <td>3</td>\n",
       "      <td>super pumped for the Kelly Clarkson concert to...</td>\n",
       "      <td>2057421</td>\n",
       "      <td>None</td>\n",
       "      <td>[positive]</td>\n",
       "      <td>[the Kelly Clarkson, tonight]</td>\n",
       "      <td>[O, O, O, B-ORG, I-ORG, I-ORG, O, B-TIME, O]</td>\n",
       "      <td>[super, pumped, for, the, Kelly, Clarkson, con...</td>\n",
       "    </tr>\n",
       "    <tr>\n",
       "      <td>4</td>\n",
       "      <td>heres the thing... we started off friends... i...</td>\n",
       "      <td>2057421</td>\n",
       "      <td>None</td>\n",
       "      <td>[negative]</td>\n",
       "      <td>[]</td>\n",
       "      <td>[O, O, O, O, O, O, O, O, O, O, O, O, O, O, O, ...</td>\n",
       "      <td>[heres, the, thing, ., ., ., we, started, off,...</td>\n",
       "    </tr>\n",
       "  </tbody>\n",
       "</table>\n",
       "</div>"
      ],
      "text/plain": [
       "                                                text   user_id  when  \\\n",
       "0  The Air Up There 11/28/2009 at Bob's Classic K...  33947545  None   \n",
       "1               At Maxwell concert! Common on stage.  26083271  None   \n",
       "2  Heading out to film Cartel and The Summer Set!...  38535159  None   \n",
       "3  super pumped for the Kelly Clarkson concert to...   2057421  None   \n",
       "4  heres the thing... we started off friends... i...   2057421  None   \n",
       "\n",
       "   sentiments                                      entities  \\\n",
       "0  [positive]  [The Air Up, 11/28/2009, Bob, 9, 10, $3, $5]   \n",
       "1  [positive]                                     [Maxwell]   \n",
       "2  [positive]          [Cartel and The Summer Set, tonight]   \n",
       "3  [positive]                 [the Kelly Clarkson, tonight]   \n",
       "4  [negative]                                            []   \n",
       "\n",
       "                                                ners  \\\n",
       "0  [B-PRODUCT, I-PRODUCT, I-PRODUCT, O, B-DATE, O...   \n",
       "1                       [O, B-FAC, O, O, O, O, O, O]   \n",
       "2  [O, O, O, O, B-WORK_OF_ART, I-WORK_OF_ART, I-W...   \n",
       "3       [O, O, O, B-ORG, I-ORG, I-ORG, O, B-TIME, O]   \n",
       "4  [O, O, O, O, O, O, O, O, O, O, O, O, O, O, O, ...   \n",
       "\n",
       "                                              tokens  \n",
       "0  [The, Air, Up, There, 11/28/2009, at, Bob, 's,...  \n",
       "1    [At, Maxwell, concert, !, Common, on, stage, .]  \n",
       "2  [Heading, out, to, film, Cartel, and, The, Sum...  \n",
       "3  [super, pumped, for, the, Kelly, Clarkson, con...  \n",
       "4  [heres, the, thing, ., ., ., we, started, off,...  "
      ]
     },
     "execution_count": 69,
     "metadata": {},
     "output_type": "execute_result"
    }
   ],
   "source": [
    "df_pd.head()"
   ]
  },
  {
   "cell_type": "markdown",
   "metadata": {},
   "source": [
    "### Who\n",
    "\n",
    "For the sake of time, I focused on pop and hip hop artists from 2009/2010 (data from wikipedia). This is extra tricky when tweeters use the artist handles (eg @JonasBrothers), again this is an area for future iteration"
   ]
  },
  {
   "cell_type": "code",
   "execution_count": 70,
   "metadata": {},
   "outputs": [],
   "source": [
    "# import artist list\n",
    "with open('../data/musicians.txt', 'r') as f:\n",
    "     artists = f.read().splitlines()\n",
    "        \n",
    "artists = list(set(artists))"
   ]
  },
  {
   "cell_type": "code",
   "execution_count": 71,
   "metadata": {},
   "outputs": [
    {
     "data": {
      "text/plain": [
       "['Iyaz', 'Drake', 'Guru', 'Soul Assassins', 'Obie Trice']"
      ]
     },
     "execution_count": 71,
     "metadata": {},
     "output_type": "execute_result"
    }
   ],
   "source": [
    "artists[0:5]"
   ]
  },
  {
   "cell_type": "code",
   "execution_count": 72,
   "metadata": {},
   "outputs": [],
   "source": [
    "# get 'who' with the intersection of the extracted entities from the tweets and my artist list\n",
    "df_pd['who'] = [[entity for entity in e_list if entity in artists] for e_list in df_pd['entities']]"
   ]
  },
  {
   "cell_type": "code",
   "execution_count": 73,
   "metadata": {},
   "outputs": [
    {
     "data": {
      "text/html": [
       "<div>\n",
       "<style scoped>\n",
       "    .dataframe tbody tr th:only-of-type {\n",
       "        vertical-align: middle;\n",
       "    }\n",
       "\n",
       "    .dataframe tbody tr th {\n",
       "        vertical-align: top;\n",
       "    }\n",
       "\n",
       "    .dataframe thead th {\n",
       "        text-align: right;\n",
       "    }\n",
       "</style>\n",
       "<table border=\"1\" class=\"dataframe\">\n",
       "  <thead>\n",
       "    <tr style=\"text-align: right;\">\n",
       "      <th></th>\n",
       "      <th>text</th>\n",
       "      <th>user_id</th>\n",
       "      <th>when</th>\n",
       "      <th>sentiments</th>\n",
       "      <th>entities</th>\n",
       "      <th>ners</th>\n",
       "      <th>tokens</th>\n",
       "      <th>who</th>\n",
       "    </tr>\n",
       "  </thead>\n",
       "  <tbody>\n",
       "    <tr>\n",
       "      <td>6</td>\n",
       "      <td>It was easy to get right in front of the stage...</td>\n",
       "      <td>2057421</td>\n",
       "      <td>None</td>\n",
       "      <td>[negative]</td>\n",
       "      <td>[Kelly Clarkson, 12 year old]</td>\n",
       "      <td>[O, O, O, O, O, O, O, O, O, O, O, O, O, B-PERS...</td>\n",
       "      <td>[It, was, easy, to, get, right, in, front, of,...</td>\n",
       "      <td>[Kelly Clarkson]</td>\n",
       "    </tr>\n",
       "    <tr>\n",
       "      <td>7</td>\n",
       "      <td>Yea I rocked the Kelly Clarkson shirt last nig...</td>\n",
       "      <td>2057421</td>\n",
       "      <td>None</td>\n",
       "      <td>[positive]</td>\n",
       "      <td>[Kelly Clarkson, last night]</td>\n",
       "      <td>[O, O, O, O, B-PERSON, I-PERSON, O, B-TIME, I-...</td>\n",
       "      <td>[Yea, I, rocked, the, Kelly, Clarkson, shirt, ...</td>\n",
       "      <td>[Kelly Clarkson]</td>\n",
       "    </tr>\n",
       "    <tr>\n",
       "      <td>55</td>\n",
       "      <td>So, what about the Jason Mraz concert, huh?!! ...</td>\n",
       "      <td>22549826</td>\n",
       "      <td>None</td>\n",
       "      <td>[positive]</td>\n",
       "      <td>[Jason Mraz]</td>\n",
       "      <td>[O, O, O, O, O, B-PERSON, I-PERSON, O, O, O, O...</td>\n",
       "      <td>[So, ,, what, about, the, Jason, Mraz, concert...</td>\n",
       "      <td>[Jason Mraz]</td>\n",
       "    </tr>\n",
       "    <tr>\n",
       "      <td>56</td>\n",
       "      <td>Post pictures of the Jason Mraz concert in Rap...</td>\n",
       "      <td>22549826</td>\n",
       "      <td>None</td>\n",
       "      <td>[positive]</td>\n",
       "      <td>[Jason Mraz, Rapid City, last night, the Civic...</td>\n",
       "      <td>[O, O, O, O, B-PERSON, I-PERSON, O, O, B-GPE, ...</td>\n",
       "      <td>[Post, pictures, of, the, Jason, Mraz, concert...</td>\n",
       "      <td>[Jason Mraz]</td>\n",
       "    </tr>\n",
       "    <tr>\n",
       "      <td>57</td>\n",
       "      <td>Thanks to fans who uploaded pictures to my pho...</td>\n",
       "      <td>22549826</td>\n",
       "      <td>None</td>\n",
       "      <td>[positive]</td>\n",
       "      <td>[Jason Mraz]</td>\n",
       "      <td>[O, O, O, O, O, O, O, O, O, O, O, O, O, B-PERS...</td>\n",
       "      <td>[Thanks, to, fans, who, uploaded, pictures, to...</td>\n",
       "      <td>[Jason Mraz]</td>\n",
       "    </tr>\n",
       "    <tr>\n",
       "      <td>...</td>\n",
       "      <td>...</td>\n",
       "      <td>...</td>\n",
       "      <td>...</td>\n",
       "      <td>...</td>\n",
       "      <td>...</td>\n",
       "      <td>...</td>\n",
       "      <td>...</td>\n",
       "      <td>...</td>\n",
       "    </tr>\n",
       "    <tr>\n",
       "      <td>12182</td>\n",
       "      <td>Booked at 4am. Think concert ended way earlier...</td>\n",
       "      <td>32793540</td>\n",
       "      <td>None</td>\n",
       "      <td>[negative]</td>\n",
       "      <td>[4am, Lil Wayne, last night]</td>\n",
       "      <td>[O, O, B-TIME, O, O, O, O, O, O, O, O, O, O, O...</td>\n",
       "      <td>[Booked, at, 4am, ., Think, concert, ended, wa...</td>\n",
       "      <td>[Lil Wayne]</td>\n",
       "    </tr>\n",
       "    <tr>\n",
       "      <td>12190</td>\n",
       "      <td>@ToxicHotGirl84 You could also do a vlog about...</td>\n",
       "      <td>20411431</td>\n",
       "      <td>None</td>\n",
       "      <td>[positive]</td>\n",
       "      <td>[Britney Spears]</td>\n",
       "      <td>[O, O, O, O, O, O, O, O, O, O, O, O, O, B-PERS...</td>\n",
       "      <td>[@, ToxicHotGirl84, You, could, also, do, a, v...</td>\n",
       "      <td>[Britney Spears]</td>\n",
       "    </tr>\n",
       "    <tr>\n",
       "      <td>12254</td>\n",
       "      <td>They are giving away Jay-Z concert tickets for...</td>\n",
       "      <td>25163968</td>\n",
       "      <td>None</td>\n",
       "      <td>[negative]</td>\n",
       "      <td>[Jay-Z, tomorrow, night]</td>\n",
       "      <td>[O, O, O, O, B-PERSON, O, O, O, B-DATE, B-TIME...</td>\n",
       "      <td>[They, are, giving, away, Jay-Z, concert, tick...</td>\n",
       "      <td>[Jay-Z]</td>\n",
       "    </tr>\n",
       "    <tr>\n",
       "      <td>12364</td>\n",
       "      <td>Doing hair @ JAY Z concert in Philip! Having a...</td>\n",
       "      <td>29734209</td>\n",
       "      <td>None</td>\n",
       "      <td>[positive]</td>\n",
       "      <td>[JAY Z, Philip]</td>\n",
       "      <td>[O, O, O, B-ORG, I-ORG, O, O, B-ORG, O, O, O, ...</td>\n",
       "      <td>[Doing, hair, @, JAY, Z, concert, in, Philip, ...</td>\n",
       "      <td>[JAY Z]</td>\n",
       "    </tr>\n",
       "    <tr>\n",
       "      <td>12436</td>\n",
       "      <td>Going to the Taylor Swift concert tonight........</td>\n",
       "      <td>24794552</td>\n",
       "      <td>None</td>\n",
       "      <td>[positive]</td>\n",
       "      <td>[Taylor Swift, tonight]</td>\n",
       "      <td>[O, O, O, B-PERSON, I-PERSON, O, B-TIME, O, O,...</td>\n",
       "      <td>[Going, to, the, Taylor, Swift, concert, tonig...</td>\n",
       "      <td>[Taylor Swift]</td>\n",
       "    </tr>\n",
       "  </tbody>\n",
       "</table>\n",
       "<p>459 rows × 8 columns</p>\n",
       "</div>"
      ],
      "text/plain": [
       "                                                    text   user_id  when  \\\n",
       "6      It was easy to get right in front of the stage...   2057421  None   \n",
       "7      Yea I rocked the Kelly Clarkson shirt last nig...   2057421  None   \n",
       "55     So, what about the Jason Mraz concert, huh?!! ...  22549826  None   \n",
       "56     Post pictures of the Jason Mraz concert in Rap...  22549826  None   \n",
       "57     Thanks to fans who uploaded pictures to my pho...  22549826  None   \n",
       "...                                                  ...       ...   ...   \n",
       "12182  Booked at 4am. Think concert ended way earlier...  32793540  None   \n",
       "12190  @ToxicHotGirl84 You could also do a vlog about...  20411431  None   \n",
       "12254  They are giving away Jay-Z concert tickets for...  25163968  None   \n",
       "12364  Doing hair @ JAY Z concert in Philip! Having a...  29734209  None   \n",
       "12436  Going to the Taylor Swift concert tonight........  24794552  None   \n",
       "\n",
       "       sentiments                                           entities  \\\n",
       "6      [negative]                      [Kelly Clarkson, 12 year old]   \n",
       "7      [positive]                       [Kelly Clarkson, last night]   \n",
       "55     [positive]                                       [Jason Mraz]   \n",
       "56     [positive]  [Jason Mraz, Rapid City, last night, the Civic...   \n",
       "57     [positive]                                       [Jason Mraz]   \n",
       "...           ...                                                ...   \n",
       "12182  [negative]                       [4am, Lil Wayne, last night]   \n",
       "12190  [positive]                                   [Britney Spears]   \n",
       "12254  [negative]                           [Jay-Z, tomorrow, night]   \n",
       "12364  [positive]                                    [JAY Z, Philip]   \n",
       "12436  [positive]                            [Taylor Swift, tonight]   \n",
       "\n",
       "                                                    ners  \\\n",
       "6      [O, O, O, O, O, O, O, O, O, O, O, O, O, B-PERS...   \n",
       "7      [O, O, O, O, B-PERSON, I-PERSON, O, B-TIME, I-...   \n",
       "55     [O, O, O, O, O, B-PERSON, I-PERSON, O, O, O, O...   \n",
       "56     [O, O, O, O, B-PERSON, I-PERSON, O, O, B-GPE, ...   \n",
       "57     [O, O, O, O, O, O, O, O, O, O, O, O, O, B-PERS...   \n",
       "...                                                  ...   \n",
       "12182  [O, O, B-TIME, O, O, O, O, O, O, O, O, O, O, O...   \n",
       "12190  [O, O, O, O, O, O, O, O, O, O, O, O, O, B-PERS...   \n",
       "12254  [O, O, O, O, B-PERSON, O, O, O, B-DATE, B-TIME...   \n",
       "12364  [O, O, O, B-ORG, I-ORG, O, O, B-ORG, O, O, O, ...   \n",
       "12436  [O, O, O, B-PERSON, I-PERSON, O, B-TIME, O, O,...   \n",
       "\n",
       "                                                  tokens               who  \n",
       "6      [It, was, easy, to, get, right, in, front, of,...  [Kelly Clarkson]  \n",
       "7      [Yea, I, rocked, the, Kelly, Clarkson, shirt, ...  [Kelly Clarkson]  \n",
       "55     [So, ,, what, about, the, Jason, Mraz, concert...      [Jason Mraz]  \n",
       "56     [Post, pictures, of, the, Jason, Mraz, concert...      [Jason Mraz]  \n",
       "57     [Thanks, to, fans, who, uploaded, pictures, to...      [Jason Mraz]  \n",
       "...                                                  ...               ...  \n",
       "12182  [Booked, at, 4am, ., Think, concert, ended, wa...       [Lil Wayne]  \n",
       "12190  [@, ToxicHotGirl84, You, could, also, do, a, v...  [Britney Spears]  \n",
       "12254  [They, are, giving, away, Jay-Z, concert, tick...           [Jay-Z]  \n",
       "12364  [Doing, hair, @, JAY, Z, concert, in, Philip, ...           [JAY Z]  \n",
       "12436  [Going, to, the, Taylor, Swift, concert, tonig...    [Taylor Swift]  \n",
       "\n",
       "[459 rows x 8 columns]"
      ]
     },
     "execution_count": 73,
     "metadata": {},
     "output_type": "execute_result"
    }
   ],
   "source": [
    "df_pd.loc[df_pd['who'].str.len() >0]"
   ]
  },
  {
   "cell_type": "code",
   "execution_count": 74,
   "metadata": {},
   "outputs": [],
   "source": [
    "# replace empty strings with null/None\n",
    "df_pd['who'] = df_pd['who'].apply(lambda x: None if len(x)==0 else x)"
   ]
  },
  {
   "cell_type": "markdown",
   "metadata": {},
   "source": [
    "## WHERE"
   ]
  },
  {
   "cell_type": "code",
   "execution_count": 75,
   "metadata": {},
   "outputs": [
    {
     "data": {
      "text/html": [
       "<div>\n",
       "<style scoped>\n",
       "    .dataframe tbody tr th:only-of-type {\n",
       "        vertical-align: middle;\n",
       "    }\n",
       "\n",
       "    .dataframe tbody tr th {\n",
       "        vertical-align: top;\n",
       "    }\n",
       "\n",
       "    .dataframe thead th {\n",
       "        text-align: right;\n",
       "    }\n",
       "</style>\n",
       "<table border=\"1\" class=\"dataframe\">\n",
       "  <thead>\n",
       "    <tr style=\"text-align: right;\">\n",
       "      <th></th>\n",
       "      <th>ners</th>\n",
       "      <th>tokens</th>\n",
       "    </tr>\n",
       "  </thead>\n",
       "  <tbody>\n",
       "    <tr>\n",
       "      <td>0</td>\n",
       "      <td>[B-PRODUCT, I-PRODUCT, I-PRODUCT, O, B-DATE, O...</td>\n",
       "      <td>[The, Air, Up, There, 11/28/2009, at, Bob, 's,...</td>\n",
       "    </tr>\n",
       "    <tr>\n",
       "      <td>1</td>\n",
       "      <td>[O, B-FAC, O, O, O, O, O, O]</td>\n",
       "      <td>[At, Maxwell, concert, !, Common, on, stage, .]</td>\n",
       "    </tr>\n",
       "    <tr>\n",
       "      <td>2</td>\n",
       "      <td>[O, O, O, O, B-WORK_OF_ART, I-WORK_OF_ART, I-W...</td>\n",
       "      <td>[Heading, out, to, film, Cartel, and, The, Sum...</td>\n",
       "    </tr>\n",
       "    <tr>\n",
       "      <td>3</td>\n",
       "      <td>[O, O, O, B-ORG, I-ORG, I-ORG, O, B-TIME, O]</td>\n",
       "      <td>[super, pumped, for, the, Kelly, Clarkson, con...</td>\n",
       "    </tr>\n",
       "    <tr>\n",
       "      <td>4</td>\n",
       "      <td>[O, O, O, O, O, O, O, O, O, O, O, O, O, O, O, ...</td>\n",
       "      <td>[heres, the, thing, ., ., ., we, started, off,...</td>\n",
       "    </tr>\n",
       "    <tr>\n",
       "      <td>5</td>\n",
       "      <td>[O, O, O, O, O, O, O, O, O, O, O, B-WORK_OF_AR...</td>\n",
       "      <td>[Listening, to, kelly, clarkson, getting, read...</td>\n",
       "    </tr>\n",
       "    <tr>\n",
       "      <td>6</td>\n",
       "      <td>[O, O, O, O, O, O, O, O, O, O, O, O, O, B-PERS...</td>\n",
       "      <td>[It, was, easy, to, get, right, in, front, of,...</td>\n",
       "    </tr>\n",
       "    <tr>\n",
       "      <td>7</td>\n",
       "      <td>[O, O, O, O, B-PERSON, I-PERSON, O, B-TIME, I-...</td>\n",
       "      <td>[Yea, I, rocked, the, Kelly, Clarkson, shirt, ...</td>\n",
       "    </tr>\n",
       "    <tr>\n",
       "      <td>8</td>\n",
       "      <td>[O, O, O, O, O, O, O, O, O, O, O, O, O, O, O, ...</td>\n",
       "      <td>[i, hope, this, cold, i, got, over, the, weeke...</td>\n",
       "    </tr>\n",
       "    <tr>\n",
       "      <td>9</td>\n",
       "      <td>[O, O, O, O, O, O, B-PERSON, I-PERSON, B-ORG, ...</td>\n",
       "      <td>[via, @, Festival_Watch, :, #mm, 8.-10., Juli,...</td>\n",
       "    </tr>\n",
       "    <tr>\n",
       "      <td>10</td>\n",
       "      <td>[B-ORG, O, O, O, O, O, B-WORK_OF_ART, I-WORK_O...</td>\n",
       "      <td>[Y&amp;T, concert, performing, \", summertime, girl...</td>\n",
       "    </tr>\n",
       "    <tr>\n",
       "      <td>11</td>\n",
       "      <td>[O, O, O, O, O, O, O, O, O, O, O, B-ORDINAL, O...</td>\n",
       "      <td>[Now, im, watchin, this, kanye, concert, i, ti...</td>\n",
       "    </tr>\n",
       "    <tr>\n",
       "      <td>12</td>\n",
       "      <td>[O, O, O, O, O, O, O, B-ORG, I-ORG, I-ORG, O, ...</td>\n",
       "      <td>[I, found, my, person, to, go, to, The, Academ...</td>\n",
       "    </tr>\n",
       "    <tr>\n",
       "      <td>13</td>\n",
       "      <td>[O, O, O, O, O, O, O, O]</td>\n",
       "      <td>[Columbus, :, Concert, video, in, new, show, h...</td>\n",
       "    </tr>\n",
       "    <tr>\n",
       "      <td>14</td>\n",
       "      <td>[O, O, O, O, O, O, O, O]</td>\n",
       "      <td>[Columbus, :, Concert, video, in, new, show, h...</td>\n",
       "    </tr>\n",
       "    <tr>\n",
       "      <td>15</td>\n",
       "      <td>[O, O, O, B-WORK_OF_ART, I-WORK_OF_ART, I-WORK...</td>\n",
       "      <td>[Huge, outdoor, \", Peace, without, Borders, \",...</td>\n",
       "    </tr>\n",
       "    <tr>\n",
       "      <td>16</td>\n",
       "      <td>[O, O, O, O, O, O, O, B-TIME, O, O, O, O, O, O...</td>\n",
       "      <td>[is, looking, getting, ready, for, the, concer...</td>\n",
       "    </tr>\n",
       "    <tr>\n",
       "      <td>17</td>\n",
       "      <td>[O, O, O, B-CARDINAL, O, O, O, O, B-PERSON, O,...</td>\n",
       "      <td>[RT, @, SlickTalkBoss, 3, tickets, left, ., .....</td>\n",
       "    </tr>\n",
       "    <tr>\n",
       "      <td>18</td>\n",
       "      <td>[O, O, O, O, O, O, O, O, O, O, B-CARDINAL, O, ...</td>\n",
       "      <td>[We, 're, giving, away, FREE, R., KELLY, CONCE...</td>\n",
       "    </tr>\n",
       "    <tr>\n",
       "      <td>19</td>\n",
       "      <td>[O, O, O, O, O, O, O, O, O, O, B-CARDINAL, O, ...</td>\n",
       "      <td>[We, 're, giving, away, FREE, R., KELLY, CONCE...</td>\n",
       "    </tr>\n",
       "  </tbody>\n",
       "</table>\n",
       "</div>"
      ],
      "text/plain": [
       "                                                 ners  \\\n",
       "0   [B-PRODUCT, I-PRODUCT, I-PRODUCT, O, B-DATE, O...   \n",
       "1                        [O, B-FAC, O, O, O, O, O, O]   \n",
       "2   [O, O, O, O, B-WORK_OF_ART, I-WORK_OF_ART, I-W...   \n",
       "3        [O, O, O, B-ORG, I-ORG, I-ORG, O, B-TIME, O]   \n",
       "4   [O, O, O, O, O, O, O, O, O, O, O, O, O, O, O, ...   \n",
       "5   [O, O, O, O, O, O, O, O, O, O, O, B-WORK_OF_AR...   \n",
       "6   [O, O, O, O, O, O, O, O, O, O, O, O, O, B-PERS...   \n",
       "7   [O, O, O, O, B-PERSON, I-PERSON, O, B-TIME, I-...   \n",
       "8   [O, O, O, O, O, O, O, O, O, O, O, O, O, O, O, ...   \n",
       "9   [O, O, O, O, O, O, B-PERSON, I-PERSON, B-ORG, ...   \n",
       "10  [B-ORG, O, O, O, O, O, B-WORK_OF_ART, I-WORK_O...   \n",
       "11  [O, O, O, O, O, O, O, O, O, O, O, B-ORDINAL, O...   \n",
       "12  [O, O, O, O, O, O, O, B-ORG, I-ORG, I-ORG, O, ...   \n",
       "13                           [O, O, O, O, O, O, O, O]   \n",
       "14                           [O, O, O, O, O, O, O, O]   \n",
       "15  [O, O, O, B-WORK_OF_ART, I-WORK_OF_ART, I-WORK...   \n",
       "16  [O, O, O, O, O, O, O, B-TIME, O, O, O, O, O, O...   \n",
       "17  [O, O, O, B-CARDINAL, O, O, O, O, B-PERSON, O,...   \n",
       "18  [O, O, O, O, O, O, O, O, O, O, B-CARDINAL, O, ...   \n",
       "19  [O, O, O, O, O, O, O, O, O, O, B-CARDINAL, O, ...   \n",
       "\n",
       "                                               tokens  \n",
       "0   [The, Air, Up, There, 11/28/2009, at, Bob, 's,...  \n",
       "1     [At, Maxwell, concert, !, Common, on, stage, .]  \n",
       "2   [Heading, out, to, film, Cartel, and, The, Sum...  \n",
       "3   [super, pumped, for, the, Kelly, Clarkson, con...  \n",
       "4   [heres, the, thing, ., ., ., we, started, off,...  \n",
       "5   [Listening, to, kelly, clarkson, getting, read...  \n",
       "6   [It, was, easy, to, get, right, in, front, of,...  \n",
       "7   [Yea, I, rocked, the, Kelly, Clarkson, shirt, ...  \n",
       "8   [i, hope, this, cold, i, got, over, the, weeke...  \n",
       "9   [via, @, Festival_Watch, :, #mm, 8.-10., Juli,...  \n",
       "10  [Y&T, concert, performing, \", summertime, girl...  \n",
       "11  [Now, im, watchin, this, kanye, concert, i, ti...  \n",
       "12  [I, found, my, person, to, go, to, The, Academ...  \n",
       "13  [Columbus, :, Concert, video, in, new, show, h...  \n",
       "14  [Columbus, :, Concert, video, in, new, show, h...  \n",
       "15  [Huge, outdoor, \", Peace, without, Borders, \",...  \n",
       "16  [is, looking, getting, ready, for, the, concer...  \n",
       "17  [RT, @, SlickTalkBoss, 3, tickets, left, ., .....  \n",
       "18  [We, 're, giving, away, FREE, R., KELLY, CONCE...  \n",
       "19  [We, 're, giving, away, FREE, R., KELLY, CONCE...  "
      ]
     },
     "execution_count": 75,
     "metadata": {},
     "output_type": "execute_result"
    }
   ],
   "source": [
    "# look at ner and tokens together. I'll use any 'FAC', 'GEP' or 'LOC' NER tags as the location.\n",
    "df_pd[['ners', 'tokens']].head(20)"
   ]
  },
  {
   "cell_type": "code",
   "execution_count": 76,
   "metadata": {},
   "outputs": [],
   "source": [
    "target_ners = ['FAC', 'GPE', 'LOC']"
   ]
  },
  {
   "cell_type": "code",
   "execution_count": 77,
   "metadata": {},
   "outputs": [],
   "source": [
    "# combining the tokens that are tagged with our target NERs into a cohesive location string\n",
    "locations = []\n",
    "for ners, tokens in zip(df_pd['ners'], df_pd['tokens']):\n",
    "    location = []\n",
    "    for ner, token in zip(ners, tokens):\n",
    "        if any(target_ner in ner for target_ner in target_ners):\n",
    "            location.append(token)\n",
    "    location = \" \".join(location)\n",
    "    locations.append(location)"
   ]
  },
  {
   "cell_type": "code",
   "execution_count": 78,
   "metadata": {},
   "outputs": [],
   "source": [
    "# adding our locations to the pandas dataframe\n",
    "df_pd['where'] = locations"
   ]
  },
  {
   "cell_type": "code",
   "execution_count": 79,
   "metadata": {},
   "outputs": [
    {
     "data": {
      "text/html": [
       "<div>\n",
       "<style scoped>\n",
       "    .dataframe tbody tr th:only-of-type {\n",
       "        vertical-align: middle;\n",
       "    }\n",
       "\n",
       "    .dataframe tbody tr th {\n",
       "        vertical-align: top;\n",
       "    }\n",
       "\n",
       "    .dataframe thead th {\n",
       "        text-align: right;\n",
       "    }\n",
       "</style>\n",
       "<table border=\"1\" class=\"dataframe\">\n",
       "  <thead>\n",
       "    <tr style=\"text-align: right;\">\n",
       "      <th></th>\n",
       "      <th>text</th>\n",
       "      <th>user_id</th>\n",
       "      <th>when</th>\n",
       "      <th>sentiments</th>\n",
       "      <th>entities</th>\n",
       "      <th>ners</th>\n",
       "      <th>tokens</th>\n",
       "      <th>who</th>\n",
       "      <th>where</th>\n",
       "    </tr>\n",
       "  </thead>\n",
       "  <tbody>\n",
       "    <tr>\n",
       "      <td>0</td>\n",
       "      <td>The Air Up There 11/28/2009 at Bob's Classic K...</td>\n",
       "      <td>33947545</td>\n",
       "      <td>None</td>\n",
       "      <td>[positive]</td>\n",
       "      <td>[The Air Up, 11/28/2009, Bob, 9, 10, $3, $5]</td>\n",
       "      <td>[B-PRODUCT, I-PRODUCT, I-PRODUCT, O, B-DATE, O...</td>\n",
       "      <td>[The, Air, Up, There, 11/28/2009, at, Bob, 's,...</td>\n",
       "      <td>None</td>\n",
       "      <td></td>\n",
       "    </tr>\n",
       "    <tr>\n",
       "      <td>1</td>\n",
       "      <td>At Maxwell concert! Common on stage.</td>\n",
       "      <td>26083271</td>\n",
       "      <td>None</td>\n",
       "      <td>[positive]</td>\n",
       "      <td>[Maxwell]</td>\n",
       "      <td>[O, B-FAC, O, O, O, O, O, O]</td>\n",
       "      <td>[At, Maxwell, concert, !, Common, on, stage, .]</td>\n",
       "      <td>None</td>\n",
       "      <td>Maxwell</td>\n",
       "    </tr>\n",
       "    <tr>\n",
       "      <td>2</td>\n",
       "      <td>Heading out to film Cartel and The Summer Set!...</td>\n",
       "      <td>38535159</td>\n",
       "      <td>None</td>\n",
       "      <td>[positive]</td>\n",
       "      <td>[Cartel and The Summer Set, tonight]</td>\n",
       "      <td>[O, O, O, O, B-WORK_OF_ART, I-WORK_OF_ART, I-W...</td>\n",
       "      <td>[Heading, out, to, film, Cartel, and, The, Sum...</td>\n",
       "      <td>None</td>\n",
       "      <td></td>\n",
       "    </tr>\n",
       "    <tr>\n",
       "      <td>3</td>\n",
       "      <td>super pumped for the Kelly Clarkson concert to...</td>\n",
       "      <td>2057421</td>\n",
       "      <td>None</td>\n",
       "      <td>[positive]</td>\n",
       "      <td>[the Kelly Clarkson, tonight]</td>\n",
       "      <td>[O, O, O, B-ORG, I-ORG, I-ORG, O, B-TIME, O]</td>\n",
       "      <td>[super, pumped, for, the, Kelly, Clarkson, con...</td>\n",
       "      <td>None</td>\n",
       "      <td></td>\n",
       "    </tr>\n",
       "    <tr>\n",
       "      <td>4</td>\n",
       "      <td>heres the thing... we started off friends... i...</td>\n",
       "      <td>2057421</td>\n",
       "      <td>None</td>\n",
       "      <td>[negative]</td>\n",
       "      <td>[]</td>\n",
       "      <td>[O, O, O, O, O, O, O, O, O, O, O, O, O, O, O, ...</td>\n",
       "      <td>[heres, the, thing, ., ., ., we, started, off,...</td>\n",
       "      <td>None</td>\n",
       "      <td></td>\n",
       "    </tr>\n",
       "    <tr>\n",
       "      <td>5</td>\n",
       "      <td>Listening to kelly clarkson getting ready for ...</td>\n",
       "      <td>2057421</td>\n",
       "      <td>None</td>\n",
       "      <td>[positive]</td>\n",
       "      <td>[YEAAAAAAAAA  \", 3 MONTHS]</td>\n",
       "      <td>[O, O, O, O, O, O, O, O, O, O, O, B-WORK_OF_AR...</td>\n",
       "      <td>[Listening, to, kelly, clarkson, getting, read...</td>\n",
       "      <td>None</td>\n",
       "      <td></td>\n",
       "    </tr>\n",
       "    <tr>\n",
       "      <td>6</td>\n",
       "      <td>It was easy to get right in front of the stage...</td>\n",
       "      <td>2057421</td>\n",
       "      <td>None</td>\n",
       "      <td>[negative]</td>\n",
       "      <td>[Kelly Clarkson, 12 year old]</td>\n",
       "      <td>[O, O, O, O, O, O, O, O, O, O, O, O, O, B-PERS...</td>\n",
       "      <td>[It, was, easy, to, get, right, in, front, of,...</td>\n",
       "      <td>[Kelly Clarkson]</td>\n",
       "      <td></td>\n",
       "    </tr>\n",
       "    <tr>\n",
       "      <td>7</td>\n",
       "      <td>Yea I rocked the Kelly Clarkson shirt last nig...</td>\n",
       "      <td>2057421</td>\n",
       "      <td>None</td>\n",
       "      <td>[positive]</td>\n",
       "      <td>[Kelly Clarkson, last night]</td>\n",
       "      <td>[O, O, O, O, B-PERSON, I-PERSON, O, B-TIME, I-...</td>\n",
       "      <td>[Yea, I, rocked, the, Kelly, Clarkson, shirt, ...</td>\n",
       "      <td>[Kelly Clarkson]</td>\n",
       "      <td></td>\n",
       "    </tr>\n",
       "    <tr>\n",
       "      <td>8</td>\n",
       "      <td>i hope this cold i got over the weekend if ove...</td>\n",
       "      <td>15663100</td>\n",
       "      <td>None</td>\n",
       "      <td>[negative]</td>\n",
       "      <td>[three-day, Austin]</td>\n",
       "      <td>[O, O, O, O, O, O, O, O, O, O, O, O, O, O, O, ...</td>\n",
       "      <td>[i, hope, this, cold, i, got, over, the, weeke...</td>\n",
       "      <td>None</td>\n",
       "      <td>Austin</td>\n",
       "    </tr>\n",
       "    <tr>\n",
       "      <td>9</td>\n",
       "      <td>via @Festival_Watch: #mm 8.-10. Juli 2010 SUBW...</td>\n",
       "      <td>42475511</td>\n",
       "      <td>None</td>\n",
       "      <td>[positive]</td>\n",
       "      <td>[Juli 2010, SUBWAY, SALLY, #concerts #nightlife]</td>\n",
       "      <td>[O, O, O, O, O, O, B-PERSON, I-PERSON, B-ORG, ...</td>\n",
       "      <td>[via, @, Festival_Watch, :, #mm, 8.-10., Juli,...</td>\n",
       "      <td>None</td>\n",
       "      <td></td>\n",
       "    </tr>\n",
       "  </tbody>\n",
       "</table>\n",
       "</div>"
      ],
      "text/plain": [
       "                                                text   user_id  when  \\\n",
       "0  The Air Up There 11/28/2009 at Bob's Classic K...  33947545  None   \n",
       "1               At Maxwell concert! Common on stage.  26083271  None   \n",
       "2  Heading out to film Cartel and The Summer Set!...  38535159  None   \n",
       "3  super pumped for the Kelly Clarkson concert to...   2057421  None   \n",
       "4  heres the thing... we started off friends... i...   2057421  None   \n",
       "5  Listening to kelly clarkson getting ready for ...   2057421  None   \n",
       "6  It was easy to get right in front of the stage...   2057421  None   \n",
       "7  Yea I rocked the Kelly Clarkson shirt last nig...   2057421  None   \n",
       "8  i hope this cold i got over the weekend if ove...  15663100  None   \n",
       "9  via @Festival_Watch: #mm 8.-10. Juli 2010 SUBW...  42475511  None   \n",
       "\n",
       "   sentiments                                          entities  \\\n",
       "0  [positive]      [The Air Up, 11/28/2009, Bob, 9, 10, $3, $5]   \n",
       "1  [positive]                                         [Maxwell]   \n",
       "2  [positive]              [Cartel and The Summer Set, tonight]   \n",
       "3  [positive]                     [the Kelly Clarkson, tonight]   \n",
       "4  [negative]                                                []   \n",
       "5  [positive]                        [YEAAAAAAAAA  \", 3 MONTHS]   \n",
       "6  [negative]                     [Kelly Clarkson, 12 year old]   \n",
       "7  [positive]                      [Kelly Clarkson, last night]   \n",
       "8  [negative]                               [three-day, Austin]   \n",
       "9  [positive]  [Juli 2010, SUBWAY, SALLY, #concerts #nightlife]   \n",
       "\n",
       "                                                ners  \\\n",
       "0  [B-PRODUCT, I-PRODUCT, I-PRODUCT, O, B-DATE, O...   \n",
       "1                       [O, B-FAC, O, O, O, O, O, O]   \n",
       "2  [O, O, O, O, B-WORK_OF_ART, I-WORK_OF_ART, I-W...   \n",
       "3       [O, O, O, B-ORG, I-ORG, I-ORG, O, B-TIME, O]   \n",
       "4  [O, O, O, O, O, O, O, O, O, O, O, O, O, O, O, ...   \n",
       "5  [O, O, O, O, O, O, O, O, O, O, O, B-WORK_OF_AR...   \n",
       "6  [O, O, O, O, O, O, O, O, O, O, O, O, O, B-PERS...   \n",
       "7  [O, O, O, O, B-PERSON, I-PERSON, O, B-TIME, I-...   \n",
       "8  [O, O, O, O, O, O, O, O, O, O, O, O, O, O, O, ...   \n",
       "9  [O, O, O, O, O, O, B-PERSON, I-PERSON, B-ORG, ...   \n",
       "\n",
       "                                              tokens               who  \\\n",
       "0  [The, Air, Up, There, 11/28/2009, at, Bob, 's,...              None   \n",
       "1    [At, Maxwell, concert, !, Common, on, stage, .]              None   \n",
       "2  [Heading, out, to, film, Cartel, and, The, Sum...              None   \n",
       "3  [super, pumped, for, the, Kelly, Clarkson, con...              None   \n",
       "4  [heres, the, thing, ., ., ., we, started, off,...              None   \n",
       "5  [Listening, to, kelly, clarkson, getting, read...              None   \n",
       "6  [It, was, easy, to, get, right, in, front, of,...  [Kelly Clarkson]   \n",
       "7  [Yea, I, rocked, the, Kelly, Clarkson, shirt, ...  [Kelly Clarkson]   \n",
       "8  [i, hope, this, cold, i, got, over, the, weeke...              None   \n",
       "9  [via, @, Festival_Watch, :, #mm, 8.-10., Juli,...              None   \n",
       "\n",
       "     where  \n",
       "0           \n",
       "1  Maxwell  \n",
       "2           \n",
       "3           \n",
       "4           \n",
       "5           \n",
       "6           \n",
       "7           \n",
       "8   Austin  \n",
       "9           "
      ]
     },
     "execution_count": 79,
     "metadata": {},
     "output_type": "execute_result"
    }
   ],
   "source": [
    "df_pd.head(10)"
   ]
  },
  {
   "cell_type": "markdown",
   "metadata": {},
   "source": [
    "## Sentiment\n",
    "\n",
    "I'm curious about the differences in results from some of the different sentiment algorithms, but for now, we'll just go with the twitter-based sentiment analysis pretrained pipeline."
   ]
  },
  {
   "cell_type": "code",
   "execution_count": 80,
   "metadata": {},
   "outputs": [],
   "source": [
    "# combining the sentiment readings for each row: +1 for positive, -1 for negative, then sum\n",
    "df_pd['sentiments'] = [sum([1 if s == 'positive' else -1 if s == 'negative' else 0 for s in s_list]) \n",
    "                             for s_list in df_pd['sentiments']]"
   ]
  },
  {
   "cell_type": "code",
   "execution_count": 81,
   "metadata": {},
   "outputs": [
    {
     "data": {
      "text/html": [
       "<div>\n",
       "<style scoped>\n",
       "    .dataframe tbody tr th:only-of-type {\n",
       "        vertical-align: middle;\n",
       "    }\n",
       "\n",
       "    .dataframe tbody tr th {\n",
       "        vertical-align: top;\n",
       "    }\n",
       "\n",
       "    .dataframe thead th {\n",
       "        text-align: right;\n",
       "    }\n",
       "</style>\n",
       "<table border=\"1\" class=\"dataframe\">\n",
       "  <thead>\n",
       "    <tr style=\"text-align: right;\">\n",
       "      <th></th>\n",
       "      <th>text</th>\n",
       "      <th>user_id</th>\n",
       "      <th>when</th>\n",
       "      <th>sentiments</th>\n",
       "      <th>entities</th>\n",
       "      <th>ners</th>\n",
       "      <th>tokens</th>\n",
       "      <th>who</th>\n",
       "      <th>where</th>\n",
       "    </tr>\n",
       "  </thead>\n",
       "  <tbody>\n",
       "    <tr>\n",
       "      <td>0</td>\n",
       "      <td>The Air Up There 11/28/2009 at Bob's Classic K...</td>\n",
       "      <td>33947545</td>\n",
       "      <td>None</td>\n",
       "      <td>1</td>\n",
       "      <td>[The Air Up, 11/28/2009, Bob, 9, 10, $3, $5]</td>\n",
       "      <td>[B-PRODUCT, I-PRODUCT, I-PRODUCT, O, B-DATE, O...</td>\n",
       "      <td>[The, Air, Up, There, 11/28/2009, at, Bob, 's,...</td>\n",
       "      <td>None</td>\n",
       "      <td></td>\n",
       "    </tr>\n",
       "    <tr>\n",
       "      <td>1</td>\n",
       "      <td>At Maxwell concert! Common on stage.</td>\n",
       "      <td>26083271</td>\n",
       "      <td>None</td>\n",
       "      <td>1</td>\n",
       "      <td>[Maxwell]</td>\n",
       "      <td>[O, B-FAC, O, O, O, O, O, O]</td>\n",
       "      <td>[At, Maxwell, concert, !, Common, on, stage, .]</td>\n",
       "      <td>None</td>\n",
       "      <td>Maxwell</td>\n",
       "    </tr>\n",
       "    <tr>\n",
       "      <td>2</td>\n",
       "      <td>Heading out to film Cartel and The Summer Set!...</td>\n",
       "      <td>38535159</td>\n",
       "      <td>None</td>\n",
       "      <td>1</td>\n",
       "      <td>[Cartel and The Summer Set, tonight]</td>\n",
       "      <td>[O, O, O, O, B-WORK_OF_ART, I-WORK_OF_ART, I-W...</td>\n",
       "      <td>[Heading, out, to, film, Cartel, and, The, Sum...</td>\n",
       "      <td>None</td>\n",
       "      <td></td>\n",
       "    </tr>\n",
       "    <tr>\n",
       "      <td>3</td>\n",
       "      <td>super pumped for the Kelly Clarkson concert to...</td>\n",
       "      <td>2057421</td>\n",
       "      <td>None</td>\n",
       "      <td>1</td>\n",
       "      <td>[the Kelly Clarkson, tonight]</td>\n",
       "      <td>[O, O, O, B-ORG, I-ORG, I-ORG, O, B-TIME, O]</td>\n",
       "      <td>[super, pumped, for, the, Kelly, Clarkson, con...</td>\n",
       "      <td>None</td>\n",
       "      <td></td>\n",
       "    </tr>\n",
       "    <tr>\n",
       "      <td>4</td>\n",
       "      <td>heres the thing... we started off friends... i...</td>\n",
       "      <td>2057421</td>\n",
       "      <td>None</td>\n",
       "      <td>-1</td>\n",
       "      <td>[]</td>\n",
       "      <td>[O, O, O, O, O, O, O, O, O, O, O, O, O, O, O, ...</td>\n",
       "      <td>[heres, the, thing, ., ., ., we, started, off,...</td>\n",
       "      <td>None</td>\n",
       "      <td></td>\n",
       "    </tr>\n",
       "  </tbody>\n",
       "</table>\n",
       "</div>"
      ],
      "text/plain": [
       "                                                text   user_id  when  \\\n",
       "0  The Air Up There 11/28/2009 at Bob's Classic K...  33947545  None   \n",
       "1               At Maxwell concert! Common on stage.  26083271  None   \n",
       "2  Heading out to film Cartel and The Summer Set!...  38535159  None   \n",
       "3  super pumped for the Kelly Clarkson concert to...   2057421  None   \n",
       "4  heres the thing... we started off friends... i...   2057421  None   \n",
       "\n",
       "   sentiments                                      entities  \\\n",
       "0           1  [The Air Up, 11/28/2009, Bob, 9, 10, $3, $5]   \n",
       "1           1                                     [Maxwell]   \n",
       "2           1          [Cartel and The Summer Set, tonight]   \n",
       "3           1                 [the Kelly Clarkson, tonight]   \n",
       "4          -1                                            []   \n",
       "\n",
       "                                                ners  \\\n",
       "0  [B-PRODUCT, I-PRODUCT, I-PRODUCT, O, B-DATE, O...   \n",
       "1                       [O, B-FAC, O, O, O, O, O, O]   \n",
       "2  [O, O, O, O, B-WORK_OF_ART, I-WORK_OF_ART, I-W...   \n",
       "3       [O, O, O, B-ORG, I-ORG, I-ORG, O, B-TIME, O]   \n",
       "4  [O, O, O, O, O, O, O, O, O, O, O, O, O, O, O, ...   \n",
       "\n",
       "                                              tokens   who    where  \n",
       "0  [The, Air, Up, There, 11/28/2009, at, Bob, 's,...  None           \n",
       "1    [At, Maxwell, concert, !, Common, on, stage, .]  None  Maxwell  \n",
       "2  [Heading, out, to, film, Cartel, and, The, Sum...  None           \n",
       "3  [super, pumped, for, the, Kelly, Clarkson, con...  None           \n",
       "4  [heres, the, thing, ., ., ., we, started, off,...  None           "
      ]
     },
     "execution_count": 81,
     "metadata": {},
     "output_type": "execute_result"
    }
   ],
   "source": [
    "df_pd.head()"
   ]
  },
  {
   "cell_type": "code",
   "execution_count": 82,
   "metadata": {},
   "outputs": [],
   "source": [
    "# convert sentiment numbers to strings\n",
    "df_pd['sentiment'] = ['positive' if s > 0 else 'neutral' if s==0 else 'negative' for s in df_pd['sentiments']]"
   ]
  },
  {
   "cell_type": "code",
   "execution_count": 83,
   "metadata": {},
   "outputs": [
    {
     "data": {
      "text/html": [
       "<div>\n",
       "<style scoped>\n",
       "    .dataframe tbody tr th:only-of-type {\n",
       "        vertical-align: middle;\n",
       "    }\n",
       "\n",
       "    .dataframe tbody tr th {\n",
       "        vertical-align: top;\n",
       "    }\n",
       "\n",
       "    .dataframe thead th {\n",
       "        text-align: right;\n",
       "    }\n",
       "</style>\n",
       "<table border=\"1\" class=\"dataframe\">\n",
       "  <thead>\n",
       "    <tr style=\"text-align: right;\">\n",
       "      <th></th>\n",
       "      <th>text</th>\n",
       "      <th>user_id</th>\n",
       "      <th>when</th>\n",
       "      <th>sentiments</th>\n",
       "      <th>entities</th>\n",
       "      <th>ners</th>\n",
       "      <th>tokens</th>\n",
       "      <th>who</th>\n",
       "      <th>where</th>\n",
       "      <th>sentiment</th>\n",
       "    </tr>\n",
       "  </thead>\n",
       "  <tbody>\n",
       "    <tr>\n",
       "      <td>0</td>\n",
       "      <td>The Air Up There 11/28/2009 at Bob's Classic K...</td>\n",
       "      <td>33947545</td>\n",
       "      <td>None</td>\n",
       "      <td>1</td>\n",
       "      <td>[The Air Up, 11/28/2009, Bob, 9, 10, $3, $5]</td>\n",
       "      <td>[B-PRODUCT, I-PRODUCT, I-PRODUCT, O, B-DATE, O...</td>\n",
       "      <td>[The, Air, Up, There, 11/28/2009, at, Bob, 's,...</td>\n",
       "      <td>None</td>\n",
       "      <td></td>\n",
       "      <td>positive</td>\n",
       "    </tr>\n",
       "    <tr>\n",
       "      <td>1</td>\n",
       "      <td>At Maxwell concert! Common on stage.</td>\n",
       "      <td>26083271</td>\n",
       "      <td>None</td>\n",
       "      <td>1</td>\n",
       "      <td>[Maxwell]</td>\n",
       "      <td>[O, B-FAC, O, O, O, O, O, O]</td>\n",
       "      <td>[At, Maxwell, concert, !, Common, on, stage, .]</td>\n",
       "      <td>None</td>\n",
       "      <td>Maxwell</td>\n",
       "      <td>positive</td>\n",
       "    </tr>\n",
       "    <tr>\n",
       "      <td>2</td>\n",
       "      <td>Heading out to film Cartel and The Summer Set!...</td>\n",
       "      <td>38535159</td>\n",
       "      <td>None</td>\n",
       "      <td>1</td>\n",
       "      <td>[Cartel and The Summer Set, tonight]</td>\n",
       "      <td>[O, O, O, O, B-WORK_OF_ART, I-WORK_OF_ART, I-W...</td>\n",
       "      <td>[Heading, out, to, film, Cartel, and, The, Sum...</td>\n",
       "      <td>None</td>\n",
       "      <td></td>\n",
       "      <td>positive</td>\n",
       "    </tr>\n",
       "    <tr>\n",
       "      <td>3</td>\n",
       "      <td>super pumped for the Kelly Clarkson concert to...</td>\n",
       "      <td>2057421</td>\n",
       "      <td>None</td>\n",
       "      <td>1</td>\n",
       "      <td>[the Kelly Clarkson, tonight]</td>\n",
       "      <td>[O, O, O, B-ORG, I-ORG, I-ORG, O, B-TIME, O]</td>\n",
       "      <td>[super, pumped, for, the, Kelly, Clarkson, con...</td>\n",
       "      <td>None</td>\n",
       "      <td></td>\n",
       "      <td>positive</td>\n",
       "    </tr>\n",
       "    <tr>\n",
       "      <td>4</td>\n",
       "      <td>heres the thing... we started off friends... i...</td>\n",
       "      <td>2057421</td>\n",
       "      <td>None</td>\n",
       "      <td>-1</td>\n",
       "      <td>[]</td>\n",
       "      <td>[O, O, O, O, O, O, O, O, O, O, O, O, O, O, O, ...</td>\n",
       "      <td>[heres, the, thing, ., ., ., we, started, off,...</td>\n",
       "      <td>None</td>\n",
       "      <td></td>\n",
       "      <td>negative</td>\n",
       "    </tr>\n",
       "  </tbody>\n",
       "</table>\n",
       "</div>"
      ],
      "text/plain": [
       "                                                text   user_id  when  \\\n",
       "0  The Air Up There 11/28/2009 at Bob's Classic K...  33947545  None   \n",
       "1               At Maxwell concert! Common on stage.  26083271  None   \n",
       "2  Heading out to film Cartel and The Summer Set!...  38535159  None   \n",
       "3  super pumped for the Kelly Clarkson concert to...   2057421  None   \n",
       "4  heres the thing... we started off friends... i...   2057421  None   \n",
       "\n",
       "   sentiments                                      entities  \\\n",
       "0           1  [The Air Up, 11/28/2009, Bob, 9, 10, $3, $5]   \n",
       "1           1                                     [Maxwell]   \n",
       "2           1          [Cartel and The Summer Set, tonight]   \n",
       "3           1                 [the Kelly Clarkson, tonight]   \n",
       "4          -1                                            []   \n",
       "\n",
       "                                                ners  \\\n",
       "0  [B-PRODUCT, I-PRODUCT, I-PRODUCT, O, B-DATE, O...   \n",
       "1                       [O, B-FAC, O, O, O, O, O, O]   \n",
       "2  [O, O, O, O, B-WORK_OF_ART, I-WORK_OF_ART, I-W...   \n",
       "3       [O, O, O, B-ORG, I-ORG, I-ORG, O, B-TIME, O]   \n",
       "4  [O, O, O, O, O, O, O, O, O, O, O, O, O, O, O, ...   \n",
       "\n",
       "                                              tokens   who    where sentiment  \n",
       "0  [The, Air, Up, There, 11/28/2009, at, Bob, 's,...  None           positive  \n",
       "1    [At, Maxwell, concert, !, Common, on, stage, .]  None  Maxwell  positive  \n",
       "2  [Heading, out, to, film, Cartel, and, The, Sum...  None           positive  \n",
       "3  [super, pumped, for, the, Kelly, Clarkson, con...  None           positive  \n",
       "4  [heres, the, thing, ., ., ., we, started, off,...  None           negative  "
      ]
     },
     "execution_count": 83,
     "metadata": {},
     "output_type": "execute_result"
    }
   ],
   "source": [
    "df_pd.head(5)"
   ]
  },
  {
   "cell_type": "markdown",
   "metadata": {},
   "source": [
    "### Audience\n",
    "\n",
    "I'll add the audience column.\n",
    "\n",
    "**Future: perhaps use the NER to determine the subject (but not the performer) or POS?\n",
    "\n",
    "Unfortunately, my attempt to use the POS tagger didn't work for today.\n",
    "\n",
    "I'm going with the basic solution - contains I or we, then the audience is the tweeter"
   ]
  },
  {
   "cell_type": "code",
   "execution_count": 84,
   "metadata": {},
   "outputs": [],
   "source": [
    "# pos_tagger = PerceptronApproach() \\\n",
    "#     .setInputCols([\"token\", \"document\"]) \\\n",
    "#     .setOutputCol(\"pos\") \\\n",
    "#     .setNIterations(5)\\\n",
    "#     .fit() # I'm not sure where to get the training data set for this....\n",
    "\n",
    "# finisher = finisher = Finisher() \\\n",
    "#      .setInputCols(['pos']) \\\n",
    "#      .setCleanAnnotations(True)"
   ]
  },
  {
   "cell_type": "code",
   "execution_count": 85,
   "metadata": {},
   "outputs": [],
   "source": [
    "# pipe = Pipeline()\\\n",
    "#                .setStages([\n",
    "#                     documentAssembler,\n",
    "#                     tokenizer,\n",
    "#                     pos_tagger,\n",
    "#                     finisher\n",
    "#                 ])"
   ]
  },
  {
   "cell_type": "code",
   "execution_count": 86,
   "metadata": {},
   "outputs": [],
   "source": [
    "# pipe.transform(df_pos)"
   ]
  },
  {
   "cell_type": "markdown",
   "metadata": {},
   "source": [
    "**Future: perhaps use the NER to determine the subject (but not the performer) or POS?\n",
    "\n",
    "Unfortunately, my attempt to use the POS tagger didn't work for today.\n"
   ]
  },
  {
   "cell_type": "code",
   "execution_count": 87,
   "metadata": {},
   "outputs": [],
   "source": [
    "# pos_tagger = PerceptronApproach() \\\n",
    "#     .setInputCols([\"token\", \"document\"]) \\\n",
    "#     .setOutputCol(\"pos\") \\\n",
    "#     .setNIterations(5)\\\n",
    "#     .fit() # I'm not sure where to get the training data set for this....\n",
    "\n",
    "# finisher = finisher = Finisher() \\\n",
    "#      .setInputCols(['pos']) \\\n",
    "#      .setCleanAnnotations(True)"
   ]
  },
  {
   "cell_type": "code",
   "execution_count": 88,
   "metadata": {},
   "outputs": [],
   "source": [
    "# pipe = Pipeline()\\\n",
    "#                .setStages([\n",
    "#                     documentAssembler,\n",
    "#                     tokenizer,\n",
    "#                     pos_tagger,\n",
    "#                     finisher\n",
    "#                 ])"
   ]
  },
  {
   "cell_type": "code",
   "execution_count": 89,
   "metadata": {},
   "outputs": [],
   "source": [
    "# pipe.transform(df_pos)"
   ]
  },
  {
   "cell_type": "markdown",
   "metadata": {},
   "source": [
    "So going with a simple solution:"
   ]
  },
  {
   "cell_type": "code",
   "execution_count": 90,
   "metadata": {},
   "outputs": [],
   "source": [
    "lower_tokens_list = []\n",
    "for token_list in df_pd['tokens']:\n",
    "    lower_tokens_list.append([token.lower() for token in token_list])"
   ]
  },
  {
   "cell_type": "code",
   "execution_count": 91,
   "metadata": {},
   "outputs": [],
   "source": [
    "df_pd['audience'] = [u if ('i' in t or 'we' in t) \n",
    "                     else None \n",
    "                     for u, t in zip(df_pd['user_id'], lower_tokens_list)]"
   ]
  },
  {
   "cell_type": "markdown",
   "metadata": {},
   "source": [
    "## Last Cleaning"
   ]
  },
  {
   "cell_type": "code",
   "execution_count": 92,
   "metadata": {},
   "outputs": [
    {
     "data": {
      "text/html": [
       "<div>\n",
       "<style scoped>\n",
       "    .dataframe tbody tr th:only-of-type {\n",
       "        vertical-align: middle;\n",
       "    }\n",
       "\n",
       "    .dataframe tbody tr th {\n",
       "        vertical-align: top;\n",
       "    }\n",
       "\n",
       "    .dataframe thead th {\n",
       "        text-align: right;\n",
       "    }\n",
       "</style>\n",
       "<table border=\"1\" class=\"dataframe\">\n",
       "  <thead>\n",
       "    <tr style=\"text-align: right;\">\n",
       "      <th></th>\n",
       "      <th>text</th>\n",
       "      <th>user_id</th>\n",
       "      <th>when</th>\n",
       "      <th>sentiments</th>\n",
       "      <th>entities</th>\n",
       "      <th>ners</th>\n",
       "      <th>tokens</th>\n",
       "      <th>who</th>\n",
       "      <th>where</th>\n",
       "      <th>sentiment</th>\n",
       "      <th>audience</th>\n",
       "    </tr>\n",
       "  </thead>\n",
       "  <tbody>\n",
       "    <tr>\n",
       "      <td>0</td>\n",
       "      <td>The Air Up There 11/28/2009 at Bob's Classic K...</td>\n",
       "      <td>33947545</td>\n",
       "      <td>None</td>\n",
       "      <td>1</td>\n",
       "      <td>[The Air Up, 11/28/2009, Bob, 9, 10, $3, $5]</td>\n",
       "      <td>[B-PRODUCT, I-PRODUCT, I-PRODUCT, O, B-DATE, O...</td>\n",
       "      <td>[The, Air, Up, There, 11/28/2009, at, Bob, 's,...</td>\n",
       "      <td>None</td>\n",
       "      <td></td>\n",
       "      <td>positive</td>\n",
       "      <td>NaN</td>\n",
       "    </tr>\n",
       "    <tr>\n",
       "      <td>1</td>\n",
       "      <td>At Maxwell concert! Common on stage.</td>\n",
       "      <td>26083271</td>\n",
       "      <td>None</td>\n",
       "      <td>1</td>\n",
       "      <td>[Maxwell]</td>\n",
       "      <td>[O, B-FAC, O, O, O, O, O, O]</td>\n",
       "      <td>[At, Maxwell, concert, !, Common, on, stage, .]</td>\n",
       "      <td>None</td>\n",
       "      <td>Maxwell</td>\n",
       "      <td>positive</td>\n",
       "      <td>NaN</td>\n",
       "    </tr>\n",
       "    <tr>\n",
       "      <td>2</td>\n",
       "      <td>Heading out to film Cartel and The Summer Set!...</td>\n",
       "      <td>38535159</td>\n",
       "      <td>None</td>\n",
       "      <td>1</td>\n",
       "      <td>[Cartel and The Summer Set, tonight]</td>\n",
       "      <td>[O, O, O, O, B-WORK_OF_ART, I-WORK_OF_ART, I-W...</td>\n",
       "      <td>[Heading, out, to, film, Cartel, and, The, Sum...</td>\n",
       "      <td>None</td>\n",
       "      <td></td>\n",
       "      <td>positive</td>\n",
       "      <td>38535159.0</td>\n",
       "    </tr>\n",
       "    <tr>\n",
       "      <td>3</td>\n",
       "      <td>super pumped for the Kelly Clarkson concert to...</td>\n",
       "      <td>2057421</td>\n",
       "      <td>None</td>\n",
       "      <td>1</td>\n",
       "      <td>[the Kelly Clarkson, tonight]</td>\n",
       "      <td>[O, O, O, B-ORG, I-ORG, I-ORG, O, B-TIME, O]</td>\n",
       "      <td>[super, pumped, for, the, Kelly, Clarkson, con...</td>\n",
       "      <td>None</td>\n",
       "      <td></td>\n",
       "      <td>positive</td>\n",
       "      <td>NaN</td>\n",
       "    </tr>\n",
       "    <tr>\n",
       "      <td>4</td>\n",
       "      <td>heres the thing... we started off friends... i...</td>\n",
       "      <td>2057421</td>\n",
       "      <td>None</td>\n",
       "      <td>-1</td>\n",
       "      <td>[]</td>\n",
       "      <td>[O, O, O, O, O, O, O, O, O, O, O, O, O, O, O, ...</td>\n",
       "      <td>[heres, the, thing, ., ., ., we, started, off,...</td>\n",
       "      <td>None</td>\n",
       "      <td></td>\n",
       "      <td>negative</td>\n",
       "      <td>2057421.0</td>\n",
       "    </tr>\n",
       "  </tbody>\n",
       "</table>\n",
       "</div>"
      ],
      "text/plain": [
       "                                                text   user_id  when  \\\n",
       "0  The Air Up There 11/28/2009 at Bob's Classic K...  33947545  None   \n",
       "1               At Maxwell concert! Common on stage.  26083271  None   \n",
       "2  Heading out to film Cartel and The Summer Set!...  38535159  None   \n",
       "3  super pumped for the Kelly Clarkson concert to...   2057421  None   \n",
       "4  heres the thing... we started off friends... i...   2057421  None   \n",
       "\n",
       "   sentiments                                      entities  \\\n",
       "0           1  [The Air Up, 11/28/2009, Bob, 9, 10, $3, $5]   \n",
       "1           1                                     [Maxwell]   \n",
       "2           1          [Cartel and The Summer Set, tonight]   \n",
       "3           1                 [the Kelly Clarkson, tonight]   \n",
       "4          -1                                            []   \n",
       "\n",
       "                                                ners  \\\n",
       "0  [B-PRODUCT, I-PRODUCT, I-PRODUCT, O, B-DATE, O...   \n",
       "1                       [O, B-FAC, O, O, O, O, O, O]   \n",
       "2  [O, O, O, O, B-WORK_OF_ART, I-WORK_OF_ART, I-W...   \n",
       "3       [O, O, O, B-ORG, I-ORG, I-ORG, O, B-TIME, O]   \n",
       "4  [O, O, O, O, O, O, O, O, O, O, O, O, O, O, O, ...   \n",
       "\n",
       "                                              tokens   who    where sentiment  \\\n",
       "0  [The, Air, Up, There, 11/28/2009, at, Bob, 's,...  None           positive   \n",
       "1    [At, Maxwell, concert, !, Common, on, stage, .]  None  Maxwell  positive   \n",
       "2  [Heading, out, to, film, Cartel, and, The, Sum...  None           positive   \n",
       "3  [super, pumped, for, the, Kelly, Clarkson, con...  None           positive   \n",
       "4  [heres, the, thing, ., ., ., we, started, off,...  None           negative   \n",
       "\n",
       "     audience  \n",
       "0         NaN  \n",
       "1         NaN  \n",
       "2  38535159.0  \n",
       "3         NaN  \n",
       "4   2057421.0  "
      ]
     },
     "execution_count": 92,
     "metadata": {},
     "output_type": "execute_result"
    }
   ],
   "source": [
    "df_pd.head()"
   ]
  },
  {
   "cell_type": "code",
   "execution_count": 93,
   "metadata": {},
   "outputs": [],
   "source": [
    "df_pd = df_pd[['text', 'who', 'when', 'where', 'audience', 'sentiment']]"
   ]
  },
  {
   "cell_type": "code",
   "execution_count": 94,
   "metadata": {},
   "outputs": [
    {
     "data": {
      "text/html": [
       "<div>\n",
       "<style scoped>\n",
       "    .dataframe tbody tr th:only-of-type {\n",
       "        vertical-align: middle;\n",
       "    }\n",
       "\n",
       "    .dataframe tbody tr th {\n",
       "        vertical-align: top;\n",
       "    }\n",
       "\n",
       "    .dataframe thead th {\n",
       "        text-align: right;\n",
       "    }\n",
       "</style>\n",
       "<table border=\"1\" class=\"dataframe\">\n",
       "  <thead>\n",
       "    <tr style=\"text-align: right;\">\n",
       "      <th></th>\n",
       "      <th>text</th>\n",
       "      <th>who</th>\n",
       "      <th>when</th>\n",
       "      <th>where</th>\n",
       "      <th>audience</th>\n",
       "      <th>sentiment</th>\n",
       "    </tr>\n",
       "  </thead>\n",
       "  <tbody>\n",
       "    <tr>\n",
       "      <td>0</td>\n",
       "      <td>The Air Up There 11/28/2009 at Bob's Classic K...</td>\n",
       "      <td>None</td>\n",
       "      <td>None</td>\n",
       "      <td></td>\n",
       "      <td>NaN</td>\n",
       "      <td>positive</td>\n",
       "    </tr>\n",
       "    <tr>\n",
       "      <td>1</td>\n",
       "      <td>At Maxwell concert! Common on stage.</td>\n",
       "      <td>None</td>\n",
       "      <td>None</td>\n",
       "      <td>Maxwell</td>\n",
       "      <td>NaN</td>\n",
       "      <td>positive</td>\n",
       "    </tr>\n",
       "    <tr>\n",
       "      <td>2</td>\n",
       "      <td>Heading out to film Cartel and The Summer Set!...</td>\n",
       "      <td>None</td>\n",
       "      <td>None</td>\n",
       "      <td></td>\n",
       "      <td>38535159.0</td>\n",
       "      <td>positive</td>\n",
       "    </tr>\n",
       "    <tr>\n",
       "      <td>3</td>\n",
       "      <td>super pumped for the Kelly Clarkson concert to...</td>\n",
       "      <td>None</td>\n",
       "      <td>None</td>\n",
       "      <td></td>\n",
       "      <td>NaN</td>\n",
       "      <td>positive</td>\n",
       "    </tr>\n",
       "    <tr>\n",
       "      <td>4</td>\n",
       "      <td>heres the thing... we started off friends... i...</td>\n",
       "      <td>None</td>\n",
       "      <td>None</td>\n",
       "      <td></td>\n",
       "      <td>2057421.0</td>\n",
       "      <td>negative</td>\n",
       "    </tr>\n",
       "    <tr>\n",
       "      <td>5</td>\n",
       "      <td>Listening to kelly clarkson getting ready for ...</td>\n",
       "      <td>None</td>\n",
       "      <td>None</td>\n",
       "      <td></td>\n",
       "      <td>NaN</td>\n",
       "      <td>positive</td>\n",
       "    </tr>\n",
       "    <tr>\n",
       "      <td>6</td>\n",
       "      <td>It was easy to get right in front of the stage...</td>\n",
       "      <td>[Kelly Clarkson]</td>\n",
       "      <td>None</td>\n",
       "      <td></td>\n",
       "      <td>NaN</td>\n",
       "      <td>negative</td>\n",
       "    </tr>\n",
       "    <tr>\n",
       "      <td>7</td>\n",
       "      <td>Yea I rocked the Kelly Clarkson shirt last nig...</td>\n",
       "      <td>[Kelly Clarkson]</td>\n",
       "      <td>None</td>\n",
       "      <td></td>\n",
       "      <td>2057421.0</td>\n",
       "      <td>positive</td>\n",
       "    </tr>\n",
       "    <tr>\n",
       "      <td>8</td>\n",
       "      <td>i hope this cold i got over the weekend if ove...</td>\n",
       "      <td>None</td>\n",
       "      <td>None</td>\n",
       "      <td>Austin</td>\n",
       "      <td>15663100.0</td>\n",
       "      <td>negative</td>\n",
       "    </tr>\n",
       "    <tr>\n",
       "      <td>9</td>\n",
       "      <td>via @Festival_Watch: #mm 8.-10. Juli 2010 SUBW...</td>\n",
       "      <td>None</td>\n",
       "      <td>None</td>\n",
       "      <td></td>\n",
       "      <td>NaN</td>\n",
       "      <td>positive</td>\n",
       "    </tr>\n",
       "    <tr>\n",
       "      <td>10</td>\n",
       "      <td>Y&amp;T concert performing \"summertime girls\" - Lu...</td>\n",
       "      <td>None</td>\n",
       "      <td>None</td>\n",
       "      <td></td>\n",
       "      <td>NaN</td>\n",
       "      <td>positive</td>\n",
       "    </tr>\n",
       "    <tr>\n",
       "      <td>11</td>\n",
       "      <td>Now im watchin this kanye concert i tivo'd... ...</td>\n",
       "      <td>None</td>\n",
       "      <td>None</td>\n",
       "      <td></td>\n",
       "      <td>23069530.0</td>\n",
       "      <td>positive</td>\n",
       "    </tr>\n",
       "    <tr>\n",
       "      <td>12</td>\n",
       "      <td>I found my person to go to The Academy Is... c...</td>\n",
       "      <td>None</td>\n",
       "      <td>None</td>\n",
       "      <td></td>\n",
       "      <td>62915921.0</td>\n",
       "      <td>positive</td>\n",
       "    </tr>\n",
       "    <tr>\n",
       "      <td>13</td>\n",
       "      <td>Columbus: Concert video in new show http://bit...</td>\n",
       "      <td>None</td>\n",
       "      <td>None</td>\n",
       "      <td></td>\n",
       "      <td>NaN</td>\n",
       "      <td>positive</td>\n",
       "    </tr>\n",
       "    <tr>\n",
       "      <td>14</td>\n",
       "      <td>Columbus: Concert video in new show http://bit...</td>\n",
       "      <td>None</td>\n",
       "      <td>None</td>\n",
       "      <td></td>\n",
       "      <td>NaN</td>\n",
       "      <td>positive</td>\n",
       "    </tr>\n",
       "    <tr>\n",
       "      <td>15</td>\n",
       "      <td>Huge outdoor \"Peace without Borders\" concert i...</td>\n",
       "      <td>None</td>\n",
       "      <td>None</td>\n",
       "      <td>Havana</td>\n",
       "      <td>19924866.0</td>\n",
       "      <td>negative</td>\n",
       "    </tr>\n",
       "    <tr>\n",
       "      <td>16</td>\n",
       "      <td>is looking getting ready for the concert tonig...</td>\n",
       "      <td>None</td>\n",
       "      <td>None</td>\n",
       "      <td></td>\n",
       "      <td>NaN</td>\n",
       "      <td>positive</td>\n",
       "    </tr>\n",
       "    <tr>\n",
       "      <td>17</td>\n",
       "      <td>RT @SlickTalkBoss 3 tickets left... Buju banto...</td>\n",
       "      <td>None</td>\n",
       "      <td>None</td>\n",
       "      <td></td>\n",
       "      <td>NaN</td>\n",
       "      <td>neutral</td>\n",
       "    </tr>\n",
       "    <tr>\n",
       "      <td>18</td>\n",
       "      <td>We're giving away FREE R. KELLY CONCERT TICKET...</td>\n",
       "      <td>None</td>\n",
       "      <td>None</td>\n",
       "      <td></td>\n",
       "      <td>20975557.0</td>\n",
       "      <td>positive</td>\n",
       "    </tr>\n",
       "    <tr>\n",
       "      <td>19</td>\n",
       "      <td>We're giving away FREE R. KELLY CONCERT TICKET...</td>\n",
       "      <td>None</td>\n",
       "      <td>None</td>\n",
       "      <td></td>\n",
       "      <td>20975557.0</td>\n",
       "      <td>positive</td>\n",
       "    </tr>\n",
       "    <tr>\n",
       "      <td>20</td>\n",
       "      <td>*Concert Tonight* Robert Cray sponsored by The...</td>\n",
       "      <td>None</td>\n",
       "      <td>None</td>\n",
       "      <td>Bravern 110th Avenue</td>\n",
       "      <td>NaN</td>\n",
       "      <td>positive</td>\n",
       "    </tr>\n",
       "    <tr>\n",
       "      <td>21</td>\n",
       "      <td>Great time @ the MCCS Spring Concert last nigh...</td>\n",
       "      <td>None</td>\n",
       "      <td>None</td>\n",
       "      <td>PHOENIX - BOYS ON</td>\n",
       "      <td>NaN</td>\n",
       "      <td>positive</td>\n",
       "    </tr>\n",
       "    <tr>\n",
       "      <td>22</td>\n",
       "      <td>Trying to spread around school about benefit c...</td>\n",
       "      <td>None</td>\n",
       "      <td>None</td>\n",
       "      <td></td>\n",
       "      <td>NaN</td>\n",
       "      <td>negative</td>\n",
       "    </tr>\n",
       "    <tr>\n",
       "      <td>23</td>\n",
       "      <td>At Lil Dre's release concert!  I'm here to che...</td>\n",
       "      <td>None</td>\n",
       "      <td>None</td>\n",
       "      <td></td>\n",
       "      <td>48243255.0</td>\n",
       "      <td>positive</td>\n",
       "    </tr>\n",
       "    <tr>\n",
       "      <td>24</td>\n",
       "      <td>VAMPS NYC CONCERT GONNA BE ON JAPANESE TV OMFG...</td>\n",
       "      <td>None</td>\n",
       "      <td>None</td>\n",
       "      <td></td>\n",
       "      <td>NaN</td>\n",
       "      <td>negative</td>\n",
       "    </tr>\n",
       "    <tr>\n",
       "      <td>25</td>\n",
       "      <td>@tkbalt @Pogue Charity idea: tab well-known mu...</td>\n",
       "      <td>None</td>\n",
       "      <td>None</td>\n",
       "      <td>Central Park</td>\n",
       "      <td>NaN</td>\n",
       "      <td>positive</td>\n",
       "    </tr>\n",
       "    <tr>\n",
       "      <td>26</td>\n",
       "      <td>(that last tweet was in honor of the Kenny Che...</td>\n",
       "      <td>None</td>\n",
       "      <td>None</td>\n",
       "      <td></td>\n",
       "      <td>NaN</td>\n",
       "      <td>positive</td>\n",
       "    </tr>\n",
       "    <tr>\n",
       "      <td>27</td>\n",
       "      <td>@stacysnook wow! Looks like a VERY long day! H...</td>\n",
       "      <td>None</td>\n",
       "      <td>None</td>\n",
       "      <td>Fond du Lac</td>\n",
       "      <td>10441.0</td>\n",
       "      <td>positive</td>\n",
       "    </tr>\n",
       "    <tr>\n",
       "      <td>28</td>\n",
       "      <td>i hate when hard rock/metal bands put out musi...</td>\n",
       "      <td>None</td>\n",
       "      <td>None</td>\n",
       "      <td></td>\n",
       "      <td>37400962.0</td>\n",
       "      <td>negative</td>\n",
       "    </tr>\n",
       "    <tr>\n",
       "      <td>29</td>\n",
       "      <td>1 month and 5 days till the Miley Cyrus Concer...</td>\n",
       "      <td>None</td>\n",
       "      <td>None</td>\n",
       "      <td>San Antonio</td>\n",
       "      <td>NaN</td>\n",
       "      <td>positive</td>\n",
       "    </tr>\n",
       "  </tbody>\n",
       "</table>\n",
       "</div>"
      ],
      "text/plain": [
       "                                                 text               who  when  \\\n",
       "0   The Air Up There 11/28/2009 at Bob's Classic K...              None  None   \n",
       "1                At Maxwell concert! Common on stage.              None  None   \n",
       "2   Heading out to film Cartel and The Summer Set!...              None  None   \n",
       "3   super pumped for the Kelly Clarkson concert to...              None  None   \n",
       "4   heres the thing... we started off friends... i...              None  None   \n",
       "5   Listening to kelly clarkson getting ready for ...              None  None   \n",
       "6   It was easy to get right in front of the stage...  [Kelly Clarkson]  None   \n",
       "7   Yea I rocked the Kelly Clarkson shirt last nig...  [Kelly Clarkson]  None   \n",
       "8   i hope this cold i got over the weekend if ove...              None  None   \n",
       "9   via @Festival_Watch: #mm 8.-10. Juli 2010 SUBW...              None  None   \n",
       "10  Y&T concert performing \"summertime girls\" - Lu...              None  None   \n",
       "11  Now im watchin this kanye concert i tivo'd... ...              None  None   \n",
       "12  I found my person to go to The Academy Is... c...              None  None   \n",
       "13  Columbus: Concert video in new show http://bit...              None  None   \n",
       "14  Columbus: Concert video in new show http://bit...              None  None   \n",
       "15  Huge outdoor \"Peace without Borders\" concert i...              None  None   \n",
       "16  is looking getting ready for the concert tonig...              None  None   \n",
       "17  RT @SlickTalkBoss 3 tickets left... Buju banto...              None  None   \n",
       "18  We're giving away FREE R. KELLY CONCERT TICKET...              None  None   \n",
       "19  We're giving away FREE R. KELLY CONCERT TICKET...              None  None   \n",
       "20  *Concert Tonight* Robert Cray sponsored by The...              None  None   \n",
       "21  Great time @ the MCCS Spring Concert last nigh...              None  None   \n",
       "22  Trying to spread around school about benefit c...              None  None   \n",
       "23  At Lil Dre's release concert!  I'm here to che...              None  None   \n",
       "24  VAMPS NYC CONCERT GONNA BE ON JAPANESE TV OMFG...              None  None   \n",
       "25  @tkbalt @Pogue Charity idea: tab well-known mu...              None  None   \n",
       "26  (that last tweet was in honor of the Kenny Che...              None  None   \n",
       "27  @stacysnook wow! Looks like a VERY long day! H...              None  None   \n",
       "28  i hate when hard rock/metal bands put out musi...              None  None   \n",
       "29  1 month and 5 days till the Miley Cyrus Concer...              None  None   \n",
       "\n",
       "                   where    audience sentiment  \n",
       "0                                NaN  positive  \n",
       "1                Maxwell         NaN  positive  \n",
       "2                         38535159.0  positive  \n",
       "3                                NaN  positive  \n",
       "4                          2057421.0  negative  \n",
       "5                                NaN  positive  \n",
       "6                                NaN  negative  \n",
       "7                          2057421.0  positive  \n",
       "8                 Austin  15663100.0  negative  \n",
       "9                                NaN  positive  \n",
       "10                               NaN  positive  \n",
       "11                        23069530.0  positive  \n",
       "12                        62915921.0  positive  \n",
       "13                               NaN  positive  \n",
       "14                               NaN  positive  \n",
       "15                Havana  19924866.0  negative  \n",
       "16                               NaN  positive  \n",
       "17                               NaN   neutral  \n",
       "18                        20975557.0  positive  \n",
       "19                        20975557.0  positive  \n",
       "20  Bravern 110th Avenue         NaN  positive  \n",
       "21     PHOENIX - BOYS ON         NaN  positive  \n",
       "22                               NaN  negative  \n",
       "23                        48243255.0  positive  \n",
       "24                               NaN  negative  \n",
       "25          Central Park         NaN  positive  \n",
       "26                               NaN  positive  \n",
       "27           Fond du Lac     10441.0  positive  \n",
       "28                        37400962.0  negative  \n",
       "29           San Antonio         NaN  positive  "
      ]
     },
     "execution_count": 94,
     "metadata": {},
     "output_type": "execute_result"
    }
   ],
   "source": [
    "df_pd.head(30)"
   ]
  },
  {
   "cell_type": "markdown",
   "metadata": {},
   "source": [
    "I'd love to add more artists to my artist list, to make this more satisfying, and to figure out the issue with the date recognition. Test the POS for audience detecting and concert-tweet identification. Compare the different entity detection methods. Another day."
   ]
  },
  {
   "cell_type": "code",
   "execution_count": null,
   "metadata": {},
   "outputs": [],
   "source": []
  }
 ],
 "metadata": {
  "kernelspec": {
   "display_name": "Python (pyspark-env)\n",
   "language": "python",
   "name": "pyspark-env"
  },
  "language_info": {
   "codemirror_mode": {
    "name": "ipython",
    "version": 3
   },
   "file_extension": ".py",
   "mimetype": "text/x-python",
   "name": "python",
   "nbconvert_exporter": "python",
   "pygments_lexer": "ipython3",
   "version": "3.7.4"
  }
 },
 "nbformat": 4,
 "nbformat_minor": 2
}
